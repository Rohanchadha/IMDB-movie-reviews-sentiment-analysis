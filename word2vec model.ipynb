{
 "cells": [
  {
   "cell_type": "code",
   "execution_count": 1,
   "metadata": {},
   "outputs": [],
   "source": [
    "import pandas as pd"
   ]
  },
  {
   "cell_type": "code",
   "execution_count": 2,
   "metadata": {},
   "outputs": [],
   "source": [
    "train = pd.read_csv(\"labeledTrainData.tsv\", header=0, delimiter='\\t', quoting=3)"
   ]
  },
  {
   "cell_type": "code",
   "execution_count": 3,
   "metadata": {},
   "outputs": [],
   "source": [
    "test = pd.read_csv(\"testData.tsv\", header=0, delimiter='\\t', quoting=3)"
   ]
  },
  {
   "cell_type": "code",
   "execution_count": 4,
   "metadata": {},
   "outputs": [],
   "source": [
    "unlabeled_train = pd.read_csv(\"unlabeledTrainData.tsv\", header=0, delimiter='\\t', quoting=3)"
   ]
  },
  {
   "cell_type": "code",
   "execution_count": 5,
   "metadata": {},
   "outputs": [
    {
     "name": "stdout",
     "output_type": "stream",
     "text": [
      "Read 25000 labeled reveiews, 50000 unlabeled training reviews, 25000 test reviews from the dataset\n"
     ]
    }
   ],
   "source": [
    "print(\"Read %d labeled reveiews, %d unlabeled training reviews, %d test reviews from the dataset\"\n",
    "      %(train[\"review\"].size,unlabeled_train[\"review\"].size, test[\"review\"].size))"
   ]
  },
  {
   "cell_type": "code",
   "execution_count": 6,
   "metadata": {},
   "outputs": [],
   "source": [
    "# Import various modules for string cleaning\n",
    "from bs4 import BeautifulSoup\n",
    "import re\n",
    "from nltk.corpus import stopwords"
   ]
  },
  {
   "cell_type": "code",
   "execution_count": 7,
   "metadata": {},
   "outputs": [],
   "source": [
    "def review_to_wordlist(raw_review, remove_stopwords=False):\n",
    "    \n",
    "    # Function to convert a document to a sequence of words,\n",
    "    # optionally removing stop words.  Returns a list of words.\n",
    "    #\n",
    "    # 1. Remove HTML\n",
    "    \n",
    "    review_text = BeautifulSoup(raw_review).get_text()\n",
    "    \n",
    "    #  \n",
    "    # 2. Remove non-letters\n",
    "    \n",
    "    review_text = re.sub(\"[^a-zA-Z]\",\" \", review_text)\n",
    "    \n",
    "    #\n",
    "    # 3. Convert words to lower case and split them\n",
    "    \n",
    "    words = review_text.lower().split()\n",
    "    #\n",
    "    # 4. Optionally remove stop words (false by default)\n",
    "    \n",
    "    if remove_stopwords:\n",
    "        stops = set(stopwords.words(\"english\"))\n",
    "        words = [w for w in words if not w in stops]\n",
    "    \n",
    "    #\n",
    "    # 5. Return a list of words\n",
    "    \n",
    "    return(words)"
   ]
  },
  {
   "cell_type": "code",
   "execution_count": 8,
   "metadata": {},
   "outputs": [],
   "source": [
    "# Download the punkt tokenizer for sentence splitting\n",
    "import nltk.data\n",
    "#nltk.download()   \n",
    "\n",
    "# Load the punkt tokenizer\n",
    "tokenizer = nltk.data.load('tokenizers/punkt/english.pickle')\n"
   ]
  },
  {
   "cell_type": "code",
   "execution_count": 9,
   "metadata": {},
   "outputs": [],
   "source": [
    "# Define a function to split a review into parsed sentences\n",
    "def review_to_sentences( review, tokenizer, remove_stopwords=False ):\n",
    "    # Function to split a review into parsed sentences. Returns a \n",
    "    # list of sentences, where each sentence is a list of words\n",
    "    #\n",
    "    # 1. Use the NLTK tokenizer to split the paragraph into sentences\n",
    "    raw_sentences = tokenizer.tokenize(review.strip())\n",
    "    #\n",
    "    # 2. Loop over each sentence\n",
    "    sentences = []\n",
    "    for raw_sentence in raw_sentences:\n",
    "        # If a sentence is empty, skip it\n",
    "        if len(raw_sentence) > 0:\n",
    "            # Otherwise, call review_to_wordlist to get a list of words\n",
    "            sentences.append( review_to_wordlist( raw_sentence, \\\n",
    "              remove_stopwords ))\n",
    "    #\n",
    "    # Return the list of sentences (each sentence is a list of words,\n",
    "    # so this returns a list of lists\n",
    "    return sentences"
   ]
  },
  {
   "cell_type": "code",
   "execution_count": 10,
   "metadata": {},
   "outputs": [
    {
     "name": "stdout",
     "output_type": "stream",
     "text": [
      "Parsing sentences from training set\n"
     ]
    },
    {
     "name": "stderr",
     "output_type": "stream",
     "text": [
      "C:\\Users\\Public\\Anaconda3\\lib\\site-packages\\bs4\\__init__.py:273: UserWarning: \"b'.'\" looks like a filename, not markup. You should probably open this file and pass the filehandle into Beautiful Soup.\n",
      "  ' Beautiful Soup.' % markup)\n",
      "C:\\Users\\Public\\Anaconda3\\lib\\site-packages\\bs4\\__init__.py:273: UserWarning: \"b'...'\" looks like a filename, not markup. You should probably open this file and pass the filehandle into Beautiful Soup.\n",
      "  ' Beautiful Soup.' % markup)\n",
      "C:\\Users\\Public\\Anaconda3\\lib\\site-packages\\bs4\\__init__.py:336: UserWarning: \"http://www.happierabroad.com\"\" looks like a URL. Beautiful Soup is not an HTTP client. You should probably use an HTTP client like requests to get the document behind the URL, and feed that document to Beautiful Soup.\n",
      "  ' that document to Beautiful Soup.' % decoded_markup\n"
     ]
    },
    {
     "name": "stdout",
     "output_type": "stream",
     "text": [
      "Parsing sentences from unlabeled set\n"
     ]
    },
    {
     "name": "stderr",
     "output_type": "stream",
     "text": [
      "C:\\Users\\Public\\Anaconda3\\lib\\site-packages\\bs4\\__init__.py:336: UserWarning: \"http://www.archive.org/details/LovefromaStranger\"\" looks like a URL. Beautiful Soup is not an HTTP client. You should probably use an HTTP client like requests to get the document behind the URL, and feed that document to Beautiful Soup.\n",
      "  ' that document to Beautiful Soup.' % decoded_markup\n",
      "C:\\Users\\Public\\Anaconda3\\lib\\site-packages\\bs4\\__init__.py:336: UserWarning: \"http://www.loosechangeguide.com/LooseChangeGuide.html\"\" looks like a URL. Beautiful Soup is not an HTTP client. You should probably use an HTTP client like requests to get the document behind the URL, and feed that document to Beautiful Soup.\n",
      "  ' that document to Beautiful Soup.' % decoded_markup\n",
      "C:\\Users\\Public\\Anaconda3\\lib\\site-packages\\bs4\\__init__.py:273: UserWarning: \"b'... ...'\" looks like a filename, not markup. You should probably open this file and pass the filehandle into Beautiful Soup.\n",
      "  ' Beautiful Soup.' % markup)\n",
      "C:\\Users\\Public\\Anaconda3\\lib\\site-packages\\bs4\\__init__.py:273: UserWarning: \"b'....'\" looks like a filename, not markup. You should probably open this file and pass the filehandle into Beautiful Soup.\n",
      "  ' Beautiful Soup.' % markup)\n",
      "C:\\Users\\Public\\Anaconda3\\lib\\site-packages\\bs4\\__init__.py:336: UserWarning: \"http://www.msnbc.msn.com/id/4972055/site/newsweek/\"\" looks like a URL. Beautiful Soup is not an HTTP client. You should probably use an HTTP client like requests to get the document behind the URL, and feed that document to Beautiful Soup.\n",
      "  ' that document to Beautiful Soup.' % decoded_markup\n",
      "C:\\Users\\Public\\Anaconda3\\lib\\site-packages\\bs4\\__init__.py:273: UserWarning: \"b'..'\" looks like a filename, not markup. You should probably open this file and pass the filehandle into Beautiful Soup.\n",
      "  ' Beautiful Soup.' % markup)\n",
      "C:\\Users\\Public\\Anaconda3\\lib\\site-packages\\bs4\\__init__.py:336: UserWarning: \"http://www.youtube.com/watch?v=a0KSqelmgN8\"\" looks like a URL. Beautiful Soup is not an HTTP client. You should probably use an HTTP client like requests to get the document behind the URL, and feed that document to Beautiful Soup.\n",
      "  ' that document to Beautiful Soup.' % decoded_markup\n",
      "C:\\Users\\Public\\Anaconda3\\lib\\site-packages\\bs4\\__init__.py:273: UserWarning: \"b'.. .'\" looks like a filename, not markup. You should probably open this file and pass the filehandle into Beautiful Soup.\n",
      "  ' Beautiful Soup.' % markup)\n",
      "C:\\Users\\Public\\Anaconda3\\lib\\site-packages\\bs4\\__init__.py:336: UserWarning: \"http://jake-weird.blogspot.com/2007/08/beneath.html\"\" looks like a URL. Beautiful Soup is not an HTTP client. You should probably use an HTTP client like requests to get the document behind the URL, and feed that document to Beautiful Soup.\n",
      "  ' that document to Beautiful Soup.' % decoded_markup\n"
     ]
    }
   ],
   "source": [
    "sentences = []  # Initialize an empty list of sentences\n",
    "\n",
    "print (\"Parsing sentences from training set\")\n",
    "for review in train[\"review\"]:\n",
    "    sentences += review_to_sentences(review, tokenizer)\n",
    "\n",
    "print (\"Parsing sentences from unlabeled set\")\n",
    "for review in unlabeled_train[\"review\"]:\n",
    "    sentences += review_to_sentences(review, tokenizer)\n"
   ]
  },
  {
   "cell_type": "code",
   "execution_count": 11,
   "metadata": {},
   "outputs": [
    {
     "name": "stdout",
     "output_type": "stream",
     "text": [
      "795538\n",
      "['with', 'all', 'this', 'stuff', 'going', 'down', 'at', 'the', 'moment', 'with', 'mj', 'i', 've', 'started', 'listening', 'to', 'his', 'music', 'watching', 'the', 'odd', 'documentary', 'here', 'and', 'there', 'watched', 'the', 'wiz', 'and', 'watched', 'moonwalker', 'again']\n",
      "['maybe', 'i', 'just', 'want', 'to', 'get', 'a', 'certain', 'insight', 'into', 'this', 'guy', 'who', 'i', 'thought', 'was', 'really', 'cool', 'in', 'the', 'eighties', 'just', 'to', 'maybe', 'make', 'up', 'my', 'mind', 'whether', 'he', 'is', 'guilty', 'or', 'innocent']\n"
     ]
    }
   ],
   "source": [
    "# Check how many sentences we have in total - should be around 850,000+\n",
    "print (len(sentences))\n",
    "\n",
    "print (sentences[0])\n",
    "\n",
    "print (sentences[1])\n"
   ]
  },
  {
   "cell_type": "code",
   "execution_count": 12,
   "metadata": {},
   "outputs": [
    {
     "name": "stderr",
     "output_type": "stream",
     "text": [
      "C:\\Users\\Public\\Anaconda3\\lib\\site-packages\\gensim\\utils.py:1197: UserWarning: detected Windows; aliasing chunkize to chunkize_serial\n",
      "  warnings.warn(\"detected Windows; aliasing chunkize to chunkize_serial\")\n",
      "2019-01-26 03:47:26,173 : INFO : 'pattern' package not found; tag filters are not available for English\n",
      "2019-01-26 03:47:26,185 : INFO : collecting all words and their counts\n",
      "2019-01-26 03:47:26,186 : INFO : PROGRESS: at sentence #0, processed 0 words, keeping 0 word types\n",
      "2019-01-26 03:47:26,256 : INFO : PROGRESS: at sentence #10000, processed 225803 words, keeping 17776 word types\n",
      "2019-01-26 03:47:26,323 : INFO : PROGRESS: at sentence #20000, processed 451892 words, keeping 24948 word types\n"
     ]
    },
    {
     "name": "stdout",
     "output_type": "stream",
     "text": [
      "Training model...\n"
     ]
    },
    {
     "name": "stderr",
     "output_type": "stream",
     "text": [
      "2019-01-26 03:47:26,385 : INFO : PROGRESS: at sentence #30000, processed 671315 words, keeping 30034 word types\n",
      "2019-01-26 03:47:26,451 : INFO : PROGRESS: at sentence #40000, processed 897815 words, keeping 34348 word types\n",
      "2019-01-26 03:47:26,511 : INFO : PROGRESS: at sentence #50000, processed 1116963 words, keeping 37761 word types\n",
      "2019-01-26 03:47:26,560 : INFO : PROGRESS: at sentence #60000, processed 1338404 words, keeping 40723 word types\n",
      "2019-01-26 03:47:26,635 : INFO : PROGRESS: at sentence #70000, processed 1561580 words, keeping 43333 word types\n",
      "2019-01-26 03:47:26,721 : INFO : PROGRESS: at sentence #80000, processed 1780887 words, keeping 45714 word types\n",
      "2019-01-26 03:47:26,818 : INFO : PROGRESS: at sentence #90000, processed 2004996 words, keeping 48135 word types\n",
      "2019-01-26 03:47:26,923 : INFO : PROGRESS: at sentence #100000, processed 2226966 words, keeping 50207 word types\n",
      "2019-01-26 03:47:27,006 : INFO : PROGRESS: at sentence #110000, processed 2446580 words, keeping 52081 word types\n",
      "2019-01-26 03:47:27,070 : INFO : PROGRESS: at sentence #120000, processed 2668775 words, keeping 54119 word types\n",
      "2019-01-26 03:47:27,147 : INFO : PROGRESS: at sentence #130000, processed 2894303 words, keeping 55847 word types\n",
      "2019-01-26 03:47:27,214 : INFO : PROGRESS: at sentence #140000, processed 3107005 words, keeping 57346 word types\n",
      "2019-01-26 03:47:27,269 : INFO : PROGRESS: at sentence #150000, processed 3332627 words, keeping 59055 word types\n",
      "2019-01-26 03:47:27,324 : INFO : PROGRESS: at sentence #160000, processed 3555315 words, keeping 60617 word types\n",
      "2019-01-26 03:47:27,381 : INFO : PROGRESS: at sentence #170000, processed 3778655 words, keeping 62077 word types\n",
      "2019-01-26 03:47:27,466 : INFO : PROGRESS: at sentence #180000, processed 3999236 words, keeping 63496 word types\n",
      "2019-01-26 03:47:27,565 : INFO : PROGRESS: at sentence #190000, processed 4224449 words, keeping 64794 word types\n",
      "2019-01-26 03:47:27,651 : INFO : PROGRESS: at sentence #200000, processed 4448603 words, keeping 66087 word types\n",
      "2019-01-26 03:47:27,720 : INFO : PROGRESS: at sentence #210000, processed 4669967 words, keeping 67390 word types\n",
      "2019-01-26 03:47:27,789 : INFO : PROGRESS: at sentence #220000, processed 4894968 words, keeping 68697 word types\n",
      "2019-01-26 03:47:27,860 : INFO : PROGRESS: at sentence #230000, processed 5117545 words, keeping 69958 word types\n",
      "2019-01-26 03:47:27,940 : INFO : PROGRESS: at sentence #240000, processed 5345050 words, keeping 71167 word types\n",
      "2019-01-26 03:47:28,016 : INFO : PROGRESS: at sentence #250000, processed 5559165 words, keeping 72351 word types\n",
      "2019-01-26 03:47:28,078 : INFO : PROGRESS: at sentence #260000, processed 5779146 words, keeping 73478 word types\n",
      "2019-01-26 03:47:28,166 : INFO : PROGRESS: at sentence #270000, processed 6000435 words, keeping 74767 word types\n",
      "2019-01-26 03:47:28,257 : INFO : PROGRESS: at sentence #280000, processed 6226314 words, keeping 76369 word types\n",
      "2019-01-26 03:47:28,337 : INFO : PROGRESS: at sentence #290000, processed 6449474 words, keeping 77839 word types\n",
      "2019-01-26 03:47:28,410 : INFO : PROGRESS: at sentence #300000, processed 6674077 words, keeping 79171 word types\n",
      "2019-01-26 03:47:28,492 : INFO : PROGRESS: at sentence #310000, processed 6899391 words, keeping 80480 word types\n",
      "2019-01-26 03:47:28,589 : INFO : PROGRESS: at sentence #320000, processed 7124278 words, keeping 81808 word types\n",
      "2019-01-26 03:47:28,679 : INFO : PROGRESS: at sentence #330000, processed 7346021 words, keeping 83030 word types\n",
      "2019-01-26 03:47:28,765 : INFO : PROGRESS: at sentence #340000, processed 7575533 words, keeping 84280 word types\n",
      "2019-01-26 03:47:28,842 : INFO : PROGRESS: at sentence #350000, processed 7798803 words, keeping 85425 word types\n",
      "2019-01-26 03:47:28,919 : INFO : PROGRESS: at sentence #360000, processed 8019427 words, keeping 86596 word types\n",
      "2019-01-26 03:47:28,999 : INFO : PROGRESS: at sentence #370000, processed 8246619 words, keeping 87708 word types\n",
      "2019-01-26 03:47:29,057 : INFO : PROGRESS: at sentence #380000, processed 8471766 words, keeping 88878 word types\n",
      "2019-01-26 03:47:29,109 : INFO : PROGRESS: at sentence #390000, processed 8701497 words, keeping 89907 word types\n",
      "2019-01-26 03:47:29,166 : INFO : PROGRESS: at sentence #400000, processed 8924446 words, keeping 90916 word types\n",
      "2019-01-26 03:47:29,218 : INFO : PROGRESS: at sentence #410000, processed 9145796 words, keeping 91880 word types\n",
      "2019-01-26 03:47:29,282 : INFO : PROGRESS: at sentence #420000, processed 9366876 words, keeping 92912 word types\n",
      "2019-01-26 03:47:29,383 : INFO : PROGRESS: at sentence #430000, processed 9594413 words, keeping 93932 word types\n",
      "2019-01-26 03:47:29,493 : INFO : PROGRESS: at sentence #440000, processed 9821166 words, keeping 94906 word types\n",
      "2019-01-26 03:47:29,575 : INFO : PROGRESS: at sentence #450000, processed 10044928 words, keeping 96036 word types\n",
      "2019-01-26 03:47:29,657 : INFO : PROGRESS: at sentence #460000, processed 10277688 words, keeping 97088 word types\n",
      "2019-01-26 03:47:29,732 : INFO : PROGRESS: at sentence #470000, processed 10505613 words, keeping 97933 word types\n",
      "2019-01-26 03:47:29,802 : INFO : PROGRESS: at sentence #480000, processed 10725997 words, keeping 98862 word types\n",
      "2019-01-26 03:47:29,872 : INFO : PROGRESS: at sentence #490000, processed 10952741 words, keeping 99871 word types\n",
      "2019-01-26 03:47:29,928 : INFO : PROGRESS: at sentence #500000, processed 11174397 words, keeping 100765 word types\n",
      "2019-01-26 03:47:29,986 : INFO : PROGRESS: at sentence #510000, processed 11399672 words, keeping 101699 word types\n",
      "2019-01-26 03:47:30,039 : INFO : PROGRESS: at sentence #520000, processed 11623020 words, keeping 102598 word types\n",
      "2019-01-26 03:47:30,094 : INFO : PROGRESS: at sentence #530000, processed 11847418 words, keeping 103400 word types\n",
      "2019-01-26 03:47:30,156 : INFO : PROGRESS: at sentence #540000, processed 12072033 words, keeping 104265 word types\n",
      "2019-01-26 03:47:30,251 : INFO : PROGRESS: at sentence #550000, processed 12297571 words, keeping 105133 word types\n",
      "2019-01-26 03:47:30,332 : INFO : PROGRESS: at sentence #560000, processed 12518861 words, keeping 105997 word types\n",
      "2019-01-26 03:47:30,408 : INFO : PROGRESS: at sentence #570000, processed 12747916 words, keeping 106787 word types\n",
      "2019-01-26 03:47:30,474 : INFO : PROGRESS: at sentence #580000, processed 12969412 words, keeping 107665 word types\n",
      "2019-01-26 03:47:30,542 : INFO : PROGRESS: at sentence #590000, processed 13194937 words, keeping 108501 word types\n",
      "2019-01-26 03:47:30,599 : INFO : PROGRESS: at sentence #600000, processed 13417135 words, keeping 109218 word types\n",
      "2019-01-26 03:47:30,656 : INFO : PROGRESS: at sentence #610000, processed 13638158 words, keeping 110092 word types\n",
      "2019-01-26 03:47:30,722 : INFO : PROGRESS: at sentence #620000, processed 13864483 words, keeping 110837 word types\n",
      "2019-01-26 03:47:30,782 : INFO : PROGRESS: at sentence #630000, processed 14088769 words, keeping 111610 word types\n",
      "2019-01-26 03:47:30,835 : INFO : PROGRESS: at sentence #640000, processed 14309552 words, keeping 112416 word types\n",
      "2019-01-26 03:47:30,889 : INFO : PROGRESS: at sentence #650000, processed 14535308 words, keeping 113196 word types\n",
      "2019-01-26 03:47:30,951 : INFO : PROGRESS: at sentence #660000, processed 14758098 words, keeping 113945 word types\n",
      "2019-01-26 03:47:31,010 : INFO : PROGRESS: at sentence #670000, processed 14981482 words, keeping 114643 word types\n",
      "2019-01-26 03:47:31,062 : INFO : PROGRESS: at sentence #680000, processed 15206314 words, keeping 115354 word types\n",
      "2019-01-26 03:47:31,116 : INFO : PROGRESS: at sentence #690000, processed 15428507 words, keeping 116131 word types\n",
      "2019-01-26 03:47:31,171 : INFO : PROGRESS: at sentence #700000, processed 15657213 words, keeping 116943 word types\n",
      "2019-01-26 03:47:31,227 : INFO : PROGRESS: at sentence #710000, processed 15880202 words, keeping 117596 word types\n",
      "2019-01-26 03:47:31,287 : INFO : PROGRESS: at sentence #720000, processed 16105489 words, keeping 118221 word types\n",
      "2019-01-26 03:47:31,344 : INFO : PROGRESS: at sentence #730000, processed 16331870 words, keeping 118954 word types\n",
      "2019-01-26 03:47:31,405 : INFO : PROGRESS: at sentence #740000, processed 16552903 words, keeping 119668 word types\n"
     ]
    },
    {
     "name": "stderr",
     "output_type": "stream",
     "text": [
      "2019-01-26 03:47:31,457 : INFO : PROGRESS: at sentence #750000, processed 16771230 words, keeping 120295 word types\n",
      "2019-01-26 03:47:31,517 : INFO : PROGRESS: at sentence #760000, processed 16990622 words, keeping 120930 word types\n",
      "2019-01-26 03:47:31,576 : INFO : PROGRESS: at sentence #770000, processed 17217759 words, keeping 121703 word types\n",
      "2019-01-26 03:47:31,639 : INFO : PROGRESS: at sentence #780000, processed 17447905 words, keeping 122402 word types\n",
      "2019-01-26 03:47:31,696 : INFO : PROGRESS: at sentence #790000, processed 17674981 words, keeping 123066 word types\n",
      "2019-01-26 03:47:31,726 : INFO : collected 123504 word types from a corpus of 17798082 raw words and 795538 sentences\n",
      "2019-01-26 03:47:31,727 : INFO : Loading a fresh vocabulary\n",
      "2019-01-26 03:47:31,809 : INFO : min_count=40 retains 16490 unique words (13% of original 123504, drops 107014)\n",
      "2019-01-26 03:47:31,810 : INFO : min_count=40 leaves 17238940 word corpus (96% of original 17798082, drops 559142)\n",
      "2019-01-26 03:47:31,884 : INFO : deleting the raw counts dictionary of 123504 items\n",
      "2019-01-26 03:47:31,888 : INFO : sample=0.001 downsamples 48 most-common words\n",
      "2019-01-26 03:47:31,888 : INFO : downsampling leaves estimated 12749658 word corpus (74.0% of prior 17238940)\n",
      "2019-01-26 03:47:31,948 : INFO : estimated required memory for 16490 words and 300 dimensions: 47821000 bytes\n",
      "2019-01-26 03:47:31,948 : INFO : resetting layer weights\n",
      "2019-01-26 03:47:32,199 : INFO : training model with 4 workers on 16490 vocabulary and 300 features, using sg=0 hs=0 sample=0.001 negative=5 window=10\n",
      "2019-01-26 03:47:33,218 : INFO : EPOCH 1 - PROGRESS: at 5.54% examples, 706348 words/s, in_qsize 7, out_qsize 0\n",
      "2019-01-26 03:47:34,223 : INFO : EPOCH 1 - PROGRESS: at 11.44% examples, 723067 words/s, in_qsize 7, out_qsize 0\n",
      "2019-01-26 03:47:35,237 : INFO : EPOCH 1 - PROGRESS: at 17.41% examples, 729307 words/s, in_qsize 7, out_qsize 0\n",
      "2019-01-26 03:47:36,244 : INFO : EPOCH 1 - PROGRESS: at 23.38% examples, 735220 words/s, in_qsize 7, out_qsize 0\n",
      "2019-01-26 03:47:37,251 : INFO : EPOCH 1 - PROGRESS: at 29.26% examples, 737235 words/s, in_qsize 8, out_qsize 0\n",
      "2019-01-26 03:47:38,263 : INFO : EPOCH 1 - PROGRESS: at 34.93% examples, 731838 words/s, in_qsize 7, out_qsize 0\n",
      "2019-01-26 03:47:39,269 : INFO : EPOCH 1 - PROGRESS: at 40.46% examples, 727908 words/s, in_qsize 7, out_qsize 0\n",
      "2019-01-26 03:47:40,271 : INFO : EPOCH 1 - PROGRESS: at 46.22% examples, 728866 words/s, in_qsize 7, out_qsize 0\n",
      "2019-01-26 03:47:41,274 : INFO : EPOCH 1 - PROGRESS: at 51.65% examples, 724840 words/s, in_qsize 7, out_qsize 0\n",
      "2019-01-26 03:47:42,278 : INFO : EPOCH 1 - PROGRESS: at 55.61% examples, 702980 words/s, in_qsize 7, out_qsize 0\n",
      "2019-01-26 03:47:43,284 : INFO : EPOCH 1 - PROGRESS: at 59.84% examples, 688776 words/s, in_qsize 7, out_qsize 0\n",
      "2019-01-26 03:47:44,297 : INFO : EPOCH 1 - PROGRESS: at 65.51% examples, 690796 words/s, in_qsize 8, out_qsize 0\n",
      "2019-01-26 03:47:45,307 : INFO : EPOCH 1 - PROGRESS: at 70.93% examples, 690491 words/s, in_qsize 8, out_qsize 0\n",
      "2019-01-26 03:47:46,310 : INFO : EPOCH 1 - PROGRESS: at 74.57% examples, 674330 words/s, in_qsize 7, out_qsize 0\n",
      "2019-01-26 03:47:47,318 : INFO : EPOCH 1 - PROGRESS: at 79.01% examples, 666720 words/s, in_qsize 8, out_qsize 0\n",
      "2019-01-26 03:47:48,322 : INFO : EPOCH 1 - PROGRESS: at 84.01% examples, 664700 words/s, in_qsize 8, out_qsize 0\n",
      "2019-01-26 03:47:49,322 : INFO : EPOCH 1 - PROGRESS: at 88.81% examples, 661793 words/s, in_qsize 6, out_qsize 1\n",
      "2019-01-26 03:47:50,323 : INFO : EPOCH 1 - PROGRESS: at 93.06% examples, 655254 words/s, in_qsize 7, out_qsize 0\n",
      "2019-01-26 03:47:51,345 : INFO : EPOCH 1 - PROGRESS: at 97.07% examples, 646753 words/s, in_qsize 8, out_qsize 0\n",
      "2019-01-26 03:47:51,904 : INFO : worker thread finished; awaiting finish of 3 more threads\n",
      "2019-01-26 03:47:51,914 : INFO : worker thread finished; awaiting finish of 2 more threads\n",
      "2019-01-26 03:47:51,920 : INFO : worker thread finished; awaiting finish of 1 more threads\n",
      "2019-01-26 03:47:51,936 : INFO : worker thread finished; awaiting finish of 0 more threads\n",
      "2019-01-26 03:47:51,937 : INFO : EPOCH - 1 : training on 17798082 raw words (12750785 effective words) took 19.7s, 646556 effective words/s\n",
      "2019-01-26 03:47:52,956 : INFO : EPOCH 2 - PROGRESS: at 3.76% examples, 478419 words/s, in_qsize 8, out_qsize 0\n",
      "2019-01-26 03:47:53,961 : INFO : EPOCH 2 - PROGRESS: at 8.94% examples, 566295 words/s, in_qsize 7, out_qsize 0\n",
      "2019-01-26 03:47:54,964 : INFO : EPOCH 2 - PROGRESS: at 14.34% examples, 603545 words/s, in_qsize 7, out_qsize 0\n",
      "2019-01-26 03:47:55,974 : INFO : EPOCH 2 - PROGRESS: at 20.00% examples, 629696 words/s, in_qsize 7, out_qsize 0\n",
      "2019-01-26 03:47:56,977 : INFO : EPOCH 2 - PROGRESS: at 25.57% examples, 645014 words/s, in_qsize 8, out_qsize 0\n",
      "2019-01-26 03:47:57,987 : INFO : EPOCH 2 - PROGRESS: at 30.98% examples, 650699 words/s, in_qsize 7, out_qsize 0\n",
      "2019-01-26 03:47:58,992 : INFO : EPOCH 2 - PROGRESS: at 36.34% examples, 654212 words/s, in_qsize 7, out_qsize 0\n",
      "2019-01-26 03:48:00,001 : INFO : EPOCH 2 - PROGRESS: at 40.52% examples, 638917 words/s, in_qsize 7, out_qsize 0\n",
      "2019-01-26 03:48:01,016 : INFO : EPOCH 2 - PROGRESS: at 45.55% examples, 638365 words/s, in_qsize 8, out_qsize 0\n",
      "2019-01-26 03:48:02,016 : INFO : EPOCH 2 - PROGRESS: at 50.51% examples, 638169 words/s, in_qsize 7, out_qsize 0\n",
      "2019-01-26 03:48:03,021 : INFO : EPOCH 2 - PROGRESS: at 55.32% examples, 635753 words/s, in_qsize 7, out_qsize 0\n",
      "2019-01-26 03:48:04,021 : INFO : EPOCH 2 - PROGRESS: at 59.90% examples, 632226 words/s, in_qsize 7, out_qsize 0\n",
      "2019-01-26 03:48:05,027 : INFO : EPOCH 2 - PROGRESS: at 65.17% examples, 635063 words/s, in_qsize 7, out_qsize 0\n",
      "2019-01-26 03:48:06,030 : INFO : EPOCH 2 - PROGRESS: at 70.33% examples, 636573 words/s, in_qsize 7, out_qsize 0\n",
      "2019-01-26 03:48:07,031 : INFO : EPOCH 2 - PROGRESS: at 75.30% examples, 636565 words/s, in_qsize 7, out_qsize 0\n",
      "2019-01-26 03:48:08,037 : INFO : EPOCH 2 - PROGRESS: at 80.42% examples, 637171 words/s, in_qsize 8, out_qsize 0\n",
      "2019-01-26 03:48:09,054 : INFO : EPOCH 2 - PROGRESS: at 85.58% examples, 637785 words/s, in_qsize 8, out_qsize 0\n",
      "2019-01-26 03:48:10,061 : INFO : EPOCH 2 - PROGRESS: at 90.71% examples, 638595 words/s, in_qsize 8, out_qsize 1\n",
      "2019-01-26 03:48:11,068 : INFO : EPOCH 2 - PROGRESS: at 96.03% examples, 640183 words/s, in_qsize 8, out_qsize 0\n",
      "2019-01-26 03:48:11,903 : INFO : worker thread finished; awaiting finish of 3 more threads\n",
      "2019-01-26 03:48:11,913 : INFO : worker thread finished; awaiting finish of 2 more threads\n",
      "2019-01-26 03:48:11,916 : INFO : worker thread finished; awaiting finish of 1 more threads\n",
      "2019-01-26 03:48:11,923 : INFO : worker thread finished; awaiting finish of 0 more threads\n",
      "2019-01-26 03:48:11,925 : INFO : EPOCH - 2 : training on 17798082 raw words (12750756 effective words) took 20.0s, 638468 effective words/s\n",
      "2019-01-26 03:48:12,952 : INFO : EPOCH 3 - PROGRESS: at 4.59% examples, 577199 words/s, in_qsize 7, out_qsize 0\n",
      "2019-01-26 03:48:13,953 : INFO : EPOCH 3 - PROGRESS: at 9.69% examples, 609498 words/s, in_qsize 7, out_qsize 0\n",
      "2019-01-26 03:48:14,953 : INFO : EPOCH 3 - PROGRESS: at 14.95% examples, 627909 words/s, in_qsize 7, out_qsize 0\n",
      "2019-01-26 03:48:15,958 : INFO : EPOCH 3 - PROGRESS: at 20.11% examples, 632766 words/s, in_qsize 7, out_qsize 0\n",
      "2019-01-26 03:48:16,981 : INFO : EPOCH 3 - PROGRESS: at 25.51% examples, 640547 words/s, in_qsize 8, out_qsize 1\n",
      "2019-01-26 03:48:17,985 : INFO : EPOCH 3 - PROGRESS: at 30.74% examples, 644070 words/s, in_qsize 8, out_qsize 0\n",
      "2019-01-26 03:48:18,986 : INFO : EPOCH 3 - PROGRESS: at 36.00% examples, 646924 words/s, in_qsize 7, out_qsize 0\n",
      "2019-01-26 03:48:20,000 : INFO : EPOCH 3 - PROGRESS: at 41.03% examples, 645299 words/s, in_qsize 8, out_qsize 0\n",
      "2019-01-26 03:48:21,004 : INFO : EPOCH 3 - PROGRESS: at 46.06% examples, 644833 words/s, in_qsize 7, out_qsize 0\n",
      "2019-01-26 03:48:22,010 : INFO : EPOCH 3 - PROGRESS: at 51.25% examples, 646495 words/s, in_qsize 8, out_qsize 0\n",
      "2019-01-26 03:48:23,017 : INFO : EPOCH 3 - PROGRESS: at 56.32% examples, 646375 words/s, in_qsize 7, out_qsize 0\n",
      "2019-01-26 03:48:24,020 : INFO : EPOCH 3 - PROGRESS: at 61.52% examples, 648295 words/s, in_qsize 7, out_qsize 0\n"
     ]
    },
    {
     "name": "stderr",
     "output_type": "stream",
     "text": [
      "2019-01-26 03:48:25,026 : INFO : EPOCH 3 - PROGRESS: at 67.46% examples, 656349 words/s, in_qsize 7, out_qsize 0\n",
      "2019-01-26 03:48:26,036 : INFO : EPOCH 3 - PROGRESS: at 73.34% examples, 662683 words/s, in_qsize 7, out_qsize 0\n",
      "2019-01-26 03:48:27,048 : INFO : EPOCH 3 - PROGRESS: at 78.10% examples, 658549 words/s, in_qsize 8, out_qsize 0\n",
      "2019-01-26 03:48:28,067 : INFO : EPOCH 3 - PROGRESS: at 82.15% examples, 648808 words/s, in_qsize 7, out_qsize 0\n",
      "2019-01-26 03:48:29,081 : INFO : EPOCH 3 - PROGRESS: at 87.20% examples, 648048 words/s, in_qsize 8, out_qsize 1\n",
      "2019-01-26 03:48:30,086 : INFO : EPOCH 3 - PROGRESS: at 91.26% examples, 640897 words/s, in_qsize 7, out_qsize 0\n",
      "2019-01-26 03:48:31,101 : INFO : EPOCH 3 - PROGRESS: at 95.17% examples, 632733 words/s, in_qsize 8, out_qsize 0\n",
      "2019-01-26 03:48:32,102 : INFO : EPOCH 3 - PROGRESS: at 99.05% examples, 626176 words/s, in_qsize 7, out_qsize 0\n",
      "2019-01-26 03:48:32,272 : INFO : worker thread finished; awaiting finish of 3 more threads\n",
      "2019-01-26 03:48:32,277 : INFO : worker thread finished; awaiting finish of 2 more threads\n",
      "2019-01-26 03:48:32,286 : INFO : worker thread finished; awaiting finish of 1 more threads\n",
      "2019-01-26 03:48:32,296 : INFO : worker thread finished; awaiting finish of 0 more threads\n",
      "2019-01-26 03:48:32,298 : INFO : EPOCH - 3 : training on 17798082 raw words (12748463 effective words) took 20.4s, 626070 effective words/s\n",
      "2019-01-26 03:48:33,334 : INFO : EPOCH 4 - PROGRESS: at 4.75% examples, 595951 words/s, in_qsize 8, out_qsize 0\n",
      "2019-01-26 03:48:34,354 : INFO : EPOCH 4 - PROGRESS: at 9.00% examples, 560610 words/s, in_qsize 7, out_qsize 0\n",
      "2019-01-26 03:48:35,371 : INFO : EPOCH 4 - PROGRESS: at 13.20% examples, 547474 words/s, in_qsize 8, out_qsize 0\n",
      "2019-01-26 03:48:36,376 : INFO : EPOCH 4 - PROGRESS: at 17.91% examples, 558158 words/s, in_qsize 8, out_qsize 0\n",
      "2019-01-26 03:48:37,379 : INFO : EPOCH 4 - PROGRESS: at 22.42% examples, 560700 words/s, in_qsize 7, out_qsize 0\n",
      "2019-01-26 03:48:38,391 : INFO : EPOCH 4 - PROGRESS: at 25.69% examples, 535562 words/s, in_qsize 8, out_qsize 0\n",
      "2019-01-26 03:48:39,403 : INFO : EPOCH 4 - PROGRESS: at 29.26% examples, 523606 words/s, in_qsize 7, out_qsize 0\n",
      "2019-01-26 03:48:40,416 : INFO : EPOCH 4 - PROGRESS: at 33.21% examples, 518956 words/s, in_qsize 8, out_qsize 0\n",
      "2019-01-26 03:48:41,438 : INFO : EPOCH 4 - PROGRESS: at 36.85% examples, 511819 words/s, in_qsize 7, out_qsize 0\n",
      "2019-01-26 03:48:42,449 : INFO : EPOCH 4 - PROGRESS: at 41.03% examples, 513698 words/s, in_qsize 7, out_qsize 0\n",
      "2019-01-26 03:48:43,461 : INFO : EPOCH 4 - PROGRESS: at 45.06% examples, 513265 words/s, in_qsize 8, out_qsize 0\n",
      "2019-01-26 03:48:44,467 : INFO : EPOCH 4 - PROGRESS: at 49.94% examples, 522542 words/s, in_qsize 7, out_qsize 0\n",
      "2019-01-26 03:48:45,467 : INFO : EPOCH 4 - PROGRESS: at 54.59% examples, 527918 words/s, in_qsize 7, out_qsize 0\n",
      "2019-01-26 03:48:46,472 : INFO : EPOCH 4 - PROGRESS: at 59.22% examples, 532833 words/s, in_qsize 8, out_qsize 0\n",
      "2019-01-26 03:48:47,478 : INFO : EPOCH 4 - PROGRESS: at 64.83% examples, 544652 words/s, in_qsize 7, out_qsize 0\n",
      "2019-01-26 03:48:48,481 : INFO : EPOCH 4 - PROGRESS: at 69.94% examples, 551154 words/s, in_qsize 8, out_qsize 1\n",
      "2019-01-26 03:48:49,491 : INFO : EPOCH 4 - PROGRESS: at 74.80% examples, 554976 words/s, in_qsize 7, out_qsize 0\n",
      "2019-01-26 03:48:50,512 : INFO : EPOCH 4 - PROGRESS: at 80.15% examples, 561158 words/s, in_qsize 7, out_qsize 0\n",
      "2019-01-26 03:48:51,531 : INFO : EPOCH 4 - PROGRESS: at 85.96% examples, 570106 words/s, in_qsize 7, out_qsize 0\n",
      "2019-01-26 03:48:52,544 : INFO : EPOCH 4 - PROGRESS: at 90.98% examples, 573358 words/s, in_qsize 8, out_qsize 0\n",
      "2019-01-26 03:48:53,544 : INFO : EPOCH 4 - PROGRESS: at 95.41% examples, 572586 words/s, in_qsize 7, out_qsize 0\n",
      "2019-01-26 03:48:54,562 : INFO : EPOCH 4 - PROGRESS: at 98.56% examples, 564752 words/s, in_qsize 7, out_qsize 0\n",
      "2019-01-26 03:48:54,907 : INFO : worker thread finished; awaiting finish of 3 more threads\n",
      "2019-01-26 03:48:54,916 : INFO : worker thread finished; awaiting finish of 2 more threads\n",
      "2019-01-26 03:48:54,932 : INFO : worker thread finished; awaiting finish of 1 more threads\n",
      "2019-01-26 03:48:54,943 : INFO : worker thread finished; awaiting finish of 0 more threads\n",
      "2019-01-26 03:48:54,946 : INFO : EPOCH - 4 : training on 17798082 raw words (12749927 effective words) took 22.6s, 563371 effective words/s\n",
      "2019-01-26 03:48:55,975 : INFO : EPOCH 5 - PROGRESS: at 3.54% examples, 445800 words/s, in_qsize 8, out_qsize 0\n",
      "2019-01-26 03:48:56,978 : INFO : EPOCH 5 - PROGRESS: at 7.48% examples, 471975 words/s, in_qsize 8, out_qsize 0\n",
      "2019-01-26 03:48:57,979 : INFO : EPOCH 5 - PROGRESS: at 11.55% examples, 485819 words/s, in_qsize 8, out_qsize 0\n",
      "2019-01-26 03:48:58,982 : INFO : EPOCH 5 - PROGRESS: at 15.40% examples, 485872 words/s, in_qsize 6, out_qsize 1\n",
      "2019-01-26 03:48:59,983 : INFO : EPOCH 5 - PROGRESS: at 19.88% examples, 501414 words/s, in_qsize 7, out_qsize 0\n",
      "2019-01-26 03:49:01,037 : INFO : EPOCH 5 - PROGRESS: at 24.09% examples, 502956 words/s, in_qsize 7, out_qsize 0\n",
      "2019-01-26 03:49:02,043 : INFO : EPOCH 5 - PROGRESS: at 27.69% examples, 496017 words/s, in_qsize 7, out_qsize 0\n",
      "2019-01-26 03:49:03,048 : INFO : EPOCH 5 - PROGRESS: at 32.07% examples, 502299 words/s, in_qsize 7, out_qsize 0\n",
      "2019-01-26 03:49:04,053 : INFO : EPOCH 5 - PROGRESS: at 37.01% examples, 515991 words/s, in_qsize 7, out_qsize 0\n",
      "2019-01-26 03:49:05,058 : INFO : EPOCH 5 - PROGRESS: at 42.14% examples, 529802 words/s, in_qsize 8, out_qsize 0\n",
      "2019-01-26 03:49:06,067 : INFO : EPOCH 5 - PROGRESS: at 47.34% examples, 541547 words/s, in_qsize 7, out_qsize 0\n",
      "2019-01-26 03:49:07,078 : INFO : EPOCH 5 - PROGRESS: at 52.54% examples, 551247 words/s, in_qsize 7, out_qsize 0\n",
      "2019-01-26 03:49:08,084 : INFO : EPOCH 5 - PROGRESS: at 57.42% examples, 556920 words/s, in_qsize 8, out_qsize 0\n",
      "2019-01-26 03:49:09,085 : INFO : EPOCH 5 - PROGRESS: at 61.92% examples, 558450 words/s, in_qsize 7, out_qsize 0\n",
      "2019-01-26 03:49:10,113 : INFO : EPOCH 5 - PROGRESS: at 65.73% examples, 552679 words/s, in_qsize 8, out_qsize 1\n",
      "2019-01-26 03:49:11,115 : INFO : EPOCH 5 - PROGRESS: at 70.33% examples, 554735 words/s, in_qsize 7, out_qsize 0\n",
      "2019-01-26 03:49:12,119 : INFO : EPOCH 5 - PROGRESS: at 74.74% examples, 555210 words/s, in_qsize 7, out_qsize 0\n",
      "2019-01-26 03:49:13,133 : INFO : EPOCH 5 - PROGRESS: at 79.22% examples, 555737 words/s, in_qsize 8, out_qsize 0\n",
      "2019-01-26 03:49:14,134 : INFO : EPOCH 5 - PROGRESS: at 83.62% examples, 555811 words/s, in_qsize 7, out_qsize 0\n",
      "2019-01-26 03:49:15,159 : INFO : EPOCH 5 - PROGRESS: at 87.96% examples, 555212 words/s, in_qsize 7, out_qsize 0\n",
      "2019-01-26 03:49:16,165 : INFO : EPOCH 5 - PROGRESS: at 92.33% examples, 555179 words/s, in_qsize 8, out_qsize 0\n",
      "2019-01-26 03:49:17,167 : INFO : EPOCH 5 - PROGRESS: at 96.86% examples, 555884 words/s, in_qsize 7, out_qsize 0\n",
      "2019-01-26 03:49:17,836 : INFO : worker thread finished; awaiting finish of 3 more threads\n",
      "2019-01-26 03:49:17,850 : INFO : worker thread finished; awaiting finish of 2 more threads\n",
      "2019-01-26 03:49:17,859 : INFO : worker thread finished; awaiting finish of 1 more threads\n",
      "2019-01-26 03:49:17,865 : INFO : worker thread finished; awaiting finish of 0 more threads\n",
      "2019-01-26 03:49:17,867 : INFO : EPOCH - 5 : training on 17798082 raw words (12750116 effective words) took 22.9s, 556671 effective words/s\n",
      "2019-01-26 03:49:17,868 : INFO : training on a 88990410 raw words (63750047 effective words) took 105.7s, 603304 effective words/s\n",
      "2019-01-26 03:49:17,869 : INFO : precomputing L2-norms of word weight vectors\n",
      "2019-01-26 03:49:18,091 : INFO : saving Word2Vec object under 300features_40minwords_10context, separately None\n",
      "2019-01-26 03:49:18,093 : INFO : not storing attribute vectors_norm\n",
      "2019-01-26 03:49:18,094 : INFO : not storing attribute cum_table\n",
      "2019-01-26 03:49:18,652 : INFO : saved 300features_40minwords_10context\n"
     ]
    }
   ],
   "source": [
    "# Import the built-in logging module and configure it so that Word2Vec \n",
    "# creates nice output messages\n",
    "import logging\n",
    "logging.basicConfig(format='%(asctime)s : %(levelname)s : %(message)s',\\\n",
    "    level=logging.INFO)\n",
    "\n",
    "# Set values for various parameters\n",
    "num_features = 300    # Word vector dimensionality                      \n",
    "min_word_count = 40   # Minimum word count                        \n",
    "num_workers = 4       # Number of threads to run in parallel\n",
    "context = 10          # Context window size                                                                                    \n",
    "downsampling = 1e-3   # Downsample setting for frequent words\n",
    "\n",
    "# Initialize and train the model (this will take some time)\n",
    "from gensim.models import word2vec\n",
    "print (\"Training model...\")\n",
    "model = word2vec.Word2Vec(sentences, workers=num_workers, \\\n",
    "            size=num_features, min_count = min_word_count, \\\n",
    "            window = context, sample = downsampling)\n",
    "\n",
    "# If you don't plan to train the model any further, calling \n",
    "# init_sims will make the model much more memory-efficient.\n",
    "model.init_sims(replace=True)\n",
    "\n",
    "# It can be helpful to create a meaningful model name and \n",
    "# save the model for later use. You can load it later using Word2Vec.load()\n",
    "model_name = \"300features_40minwords_10context\"\n",
    "model.save(model_name)"
   ]
  },
  {
   "cell_type": "code",
   "execution_count": 13,
   "metadata": {},
   "outputs": [
    {
     "name": "stderr",
     "output_type": "stream",
     "text": [
      "C:\\Users\\Public\\Anaconda3\\lib\\site-packages\\ipykernel_launcher.py:1: DeprecationWarning: Call to deprecated `doesnt_match` (Method will be removed in 4.0.0, use self.wv.doesnt_match() instead).\n",
      "  \"\"\"Entry point for launching an IPython kernel.\n"
     ]
    },
    {
     "data": {
      "text/plain": [
       "'kitchen'"
      ]
     },
     "execution_count": 13,
     "metadata": {},
     "output_type": "execute_result"
    }
   ],
   "source": [
    "model.doesnt_match(\"man woman child kitchen\".split())"
   ]
  },
  {
   "cell_type": "code",
   "execution_count": 14,
   "metadata": {},
   "outputs": [
    {
     "name": "stderr",
     "output_type": "stream",
     "text": [
      "C:\\Users\\Public\\Anaconda3\\lib\\site-packages\\ipykernel_launcher.py:1: DeprecationWarning: Call to deprecated `doesnt_match` (Method will be removed in 4.0.0, use self.wv.doesnt_match() instead).\n",
      "  \"\"\"Entry point for launching an IPython kernel.\n"
     ]
    },
    {
     "data": {
      "text/plain": [
       "'berlin'"
      ]
     },
     "execution_count": 14,
     "metadata": {},
     "output_type": "execute_result"
    }
   ],
   "source": [
    "model.doesnt_match(\"france england germany berlin\".split())"
   ]
  },
  {
   "cell_type": "code",
   "execution_count": 15,
   "metadata": {},
   "outputs": [
    {
     "name": "stderr",
     "output_type": "stream",
     "text": [
      "C:\\Users\\Public\\Anaconda3\\lib\\site-packages\\ipykernel_launcher.py:1: DeprecationWarning: Call to deprecated `doesnt_match` (Method will be removed in 4.0.0, use self.wv.doesnt_match() instead).\n",
      "  \"\"\"Entry point for launching an IPython kernel.\n"
     ]
    },
    {
     "data": {
      "text/plain": [
       "'paris'"
      ]
     },
     "execution_count": 15,
     "metadata": {},
     "output_type": "execute_result"
    }
   ],
   "source": [
    " model.doesnt_match(\"paris berlin london austria\".split())"
   ]
  },
  {
   "cell_type": "code",
   "execution_count": 16,
   "metadata": {},
   "outputs": [
    {
     "name": "stderr",
     "output_type": "stream",
     "text": [
      "C:\\Users\\Public\\Anaconda3\\lib\\site-packages\\ipykernel_launcher.py:1: DeprecationWarning: Call to deprecated `most_similar` (Method will be removed in 4.0.0, use self.wv.most_similar() instead).\n",
      "  \"\"\"Entry point for launching an IPython kernel.\n"
     ]
    },
    {
     "data": {
      "text/plain": [
       "[('woman', 0.6044820547103882),\n",
       " ('lady', 0.5981773138046265),\n",
       " ('lad', 0.5942602157592773),\n",
       " ('soldier', 0.5302401781082153),\n",
       " ('monk', 0.5203213095664978),\n",
       " ('men', 0.5164391994476318),\n",
       " ('guy', 0.5162383317947388),\n",
       " ('sailor', 0.5134319067001343),\n",
       " ('businessman', 0.5088698863983154),\n",
       " ('person', 0.5057510733604431)]"
      ]
     },
     "execution_count": 16,
     "metadata": {},
     "output_type": "execute_result"
    }
   ],
   "source": [
    "model.most_similar(\"man\")"
   ]
  },
  {
   "cell_type": "code",
   "execution_count": 17,
   "metadata": {},
   "outputs": [
    {
     "name": "stderr",
     "output_type": "stream",
     "text": [
      "C:\\Users\\Public\\Anaconda3\\lib\\site-packages\\ipykernel_launcher.py:1: DeprecationWarning: Call to deprecated `most_similar` (Method will be removed in 4.0.0, use self.wv.most_similar() instead).\n",
      "  \"\"\"Entry point for launching an IPython kernel.\n"
     ]
    },
    {
     "data": {
      "text/plain": [
       "[('princess', 0.6953500509262085),\n",
       " ('bride', 0.6251678466796875),\n",
       " ('eva', 0.6208816766738892),\n",
       " ('showgirl', 0.6144726276397705),\n",
       " ('belle', 0.6098970770835876),\n",
       " ('goddess', 0.5992159843444824),\n",
       " ('victoria', 0.5820638537406921),\n",
       " ('maria', 0.5806633830070496),\n",
       " ('maid', 0.5798587799072266),\n",
       " ('mistress', 0.5785026550292969)]"
      ]
     },
     "execution_count": 17,
     "metadata": {},
     "output_type": "execute_result"
    }
   ],
   "source": [
    "model.most_similar(\"queen\")"
   ]
  },
  {
   "cell_type": "code",
   "execution_count": 22,
   "metadata": {},
   "outputs": [
    {
     "name": "stderr",
     "output_type": "stream",
     "text": [
      "2019-01-26 04:52:57,491 : INFO : loading Word2Vec object from 300features_40minwords_10context\n",
      "2019-01-26 04:52:58,148 : INFO : loading wv recursively from 300features_40minwords_10context.wv.* with mmap=None\n",
      "2019-01-26 04:52:58,149 : INFO : setting ignored attribute vectors_norm to None\n",
      "2019-01-26 04:52:58,151 : INFO : loading vocabulary recursively from 300features_40minwords_10context.vocabulary.* with mmap=None\n",
      "2019-01-26 04:52:58,152 : INFO : loading trainables recursively from 300features_40minwords_10context.trainables.* with mmap=None\n",
      "2019-01-26 04:52:58,154 : INFO : setting ignored attribute cum_table to None\n",
      "2019-01-26 04:52:58,155 : INFO : loaded 300features_40minwords_10context\n"
     ]
    }
   ],
   "source": [
    "# Load the model that we created in Part 2\n",
    "from gensim.models import Word2Vec\n",
    "model = Word2Vec.load(\"300features_40minwords_10context\")"
   ]
  },
  {
   "cell_type": "code",
   "execution_count": 23,
   "metadata": {},
   "outputs": [
    {
     "name": "stderr",
     "output_type": "stream",
     "text": [
      "C:\\Users\\Public\\Anaconda3\\lib\\site-packages\\ipykernel_launcher.py:1: DeprecationWarning: Call to deprecated `__getitem__` (Method will be removed in 4.0.0, use self.wv.__getitem__() instead).\n",
      "  \"\"\"Entry point for launching an IPython kernel.\n"
     ]
    },
    {
     "data": {
      "text/plain": [
       "array([-9.80752483e-02, -5.83812036e-02,  3.21814045e-02,  5.69878630e-02,\n",
       "       -1.40668005e-01,  7.31226131e-02, -2.14635693e-02,  5.41111492e-02,\n",
       "        1.31456340e-02, -2.66877078e-02, -2.31220084e-03, -2.19934415e-02,\n",
       "        2.52331570e-02, -1.69570427e-02, -6.83083534e-02,  5.32113090e-02,\n",
       "       -1.87292974e-02,  2.80712396e-02, -6.51686937e-02, -1.79825816e-02,\n",
       "        1.25489049e-02, -2.57144030e-03, -4.89612967e-02, -1.12125855e-02,\n",
       "        5.82161406e-03,  1.92823932e-02,  8.17447156e-02,  1.51830480e-01,\n",
       "        2.02049762e-02, -3.40473391e-02, -5.92396371e-02, -1.52695430e-02,\n",
       "        1.39292069e-02,  6.33001849e-02, -3.90877686e-02,  1.52359083e-02,\n",
       "       -5.25805801e-02,  1.31830052e-01, -7.48797832e-03, -1.51638668e-02,\n",
       "        3.26171070e-02, -5.97723201e-02, -1.47278886e-02, -1.54408917e-01,\n",
       "       -6.01278394e-02, -2.08720453e-02,  1.79009177e-02, -3.07649025e-03,\n",
       "       -2.75397468e-02, -4.14366461e-02,  5.81660494e-02,  1.02550887e-01,\n",
       "       -8.60913545e-02, -1.04539311e-02,  1.67602897e-02,  1.83852259e-02,\n",
       "       -6.40418604e-02,  2.02863221e-03,  1.32304296e-04, -8.61275345e-02,\n",
       "       -5.80493696e-02,  1.21073410e-01,  6.12495840e-02, -8.80392864e-02,\n",
       "       -3.93903069e-02, -1.10862948e-01,  9.84284952e-02,  8.05243775e-02,\n",
       "       -4.55009602e-02, -4.63229269e-02,  8.61974340e-03,  6.32790327e-02,\n",
       "        4.12167758e-02,  3.15847024e-02,  8.95462185e-02,  1.64968949e-02,\n",
       "        6.48815464e-03,  7.22134411e-02,  7.92587698e-02,  5.28354309e-02,\n",
       "        1.01202941e-02, -3.05461744e-03,  5.60207330e-02,  4.99126650e-02,\n",
       "        2.86621731e-02, -4.62326556e-02,  1.38987273e-01, -7.29034543e-02,\n",
       "        1.59574430e-02,  2.83477716e-02,  6.69938177e-02,  4.13815267e-02,\n",
       "       -4.48267115e-03, -2.82203536e-02,  1.05780184e-01, -3.73403728e-02,\n",
       "        1.13233216e-01,  1.95122529e-02, -3.98159437e-02, -7.71346390e-02,\n",
       "        3.29980552e-02, -8.26069862e-02,  6.48584738e-02, -8.80075693e-02,\n",
       "       -8.42348933e-02, -1.19849555e-01,  9.92040802e-03, -7.68209249e-02,\n",
       "        4.18478809e-02, -3.53976525e-02,  3.69091518e-02, -4.27849144e-02,\n",
       "        9.07710418e-02, -7.62611404e-02,  9.28341001e-02, -3.42088751e-02,\n",
       "       -5.24921976e-02,  5.62308803e-02, -1.47463437e-02, -2.02560388e-02,\n",
       "       -1.57150775e-02, -8.05703327e-02, -2.56959852e-02,  7.71216378e-02,\n",
       "       -3.94490175e-02,  3.69551033e-02,  8.58513266e-02, -1.38961142e-02,\n",
       "       -1.49324965e-02, -1.19007612e-02,  5.32035194e-02, -4.92476523e-02,\n",
       "       -2.84597520e-02, -9.31411237e-02,  1.36847541e-01,  1.00692458e-01,\n",
       "        2.95535047e-02,  1.25458390e-01,  7.32855592e-03, -9.00220945e-02,\n",
       "       -5.32967672e-02, -6.64208606e-02,  2.12392788e-02, -7.04919770e-02,\n",
       "       -8.49748179e-02,  1.02960011e-02,  7.76330233e-02,  2.04459578e-02,\n",
       "        3.55029292e-02,  1.51831642e-01,  1.90804061e-02,  1.15593746e-02,\n",
       "       -5.34810312e-02, -2.64700670e-02, -1.61078647e-02,  5.95597140e-02,\n",
       "        2.91829929e-02,  2.02639829e-02, -5.19721359e-02, -5.48731675e-03,\n",
       "       -6.54897392e-02, -2.84131477e-03, -8.18294585e-02, -4.95324135e-02,\n",
       "       -1.96157396e-02,  3.63214426e-02,  8.94922391e-02,  2.85253674e-03,\n",
       "       -6.08636960e-02, -1.88530628e-02, -5.83337545e-02,  3.80289145e-02,\n",
       "       -3.92871127e-02,  5.38822934e-02,  1.65287182e-02, -6.03468232e-02,\n",
       "        1.22648887e-01, -1.13584906e-01,  2.72027422e-02,  1.47422468e-02,\n",
       "        1.76146533e-02,  6.97931973e-03,  1.26879558e-01,  1.05029948e-01,\n",
       "       -1.00070253e-01, -4.57604453e-02, -1.02166869e-02, -9.91507322e-02,\n",
       "        9.14696977e-03, -4.80655991e-02,  3.15765217e-02,  6.03658892e-02,\n",
       "        7.32619539e-02, -6.04174398e-02,  1.89006962e-02,  2.26648021e-02,\n",
       "        1.30413305e-02,  7.96994101e-03, -3.86569276e-02, -5.69246337e-02,\n",
       "        2.52635330e-02, -1.08276596e-02,  7.62480660e-04, -1.23370238e-01,\n",
       "       -6.96617886e-02,  1.93346143e-02, -7.11010844e-02, -8.55510235e-02,\n",
       "       -7.20856758e-03, -1.27710328e-02,  7.13365376e-02, -3.75516415e-02,\n",
       "       -3.30472812e-02, -2.41448563e-02, -5.30345850e-02,  2.47457270e-02,\n",
       "       -8.14247224e-03, -1.15998343e-01, -2.40099244e-03, -4.55284752e-02,\n",
       "        2.20750012e-02, -4.16044481e-02,  8.94756913e-02,  8.93337885e-04,\n",
       "        1.31277859e-01,  3.74033190e-02,  3.08066094e-03, -1.87058393e-02,\n",
       "        2.63751019e-02,  6.36163279e-02,  1.12881241e-02, -2.94104703e-02,\n",
       "       -2.31651179e-02,  1.96697991e-02,  1.68405268e-02,  3.87042463e-02,\n",
       "       -2.78691761e-03,  1.02286623e-03, -1.81442534e-03,  4.57894094e-02,\n",
       "        6.13311380e-02, -7.27645634e-03,  3.20833810e-02,  7.46817961e-02,\n",
       "       -4.77914959e-02, -1.17121167e-01,  1.84511151e-02, -3.81989926e-02,\n",
       "       -3.30264941e-02, -4.57648076e-02, -1.27077084e-02, -1.31211147e-01,\n",
       "        6.78502992e-02, -2.43137907e-02,  3.54272239e-02, -2.88392343e-02,\n",
       "       -1.13811642e-02, -7.04446435e-02, -3.20151709e-02,  2.16837204e-03,\n",
       "       -2.59182304e-02,  1.21868573e-01, -3.32151577e-02, -3.14312689e-02,\n",
       "       -7.57461041e-03, -3.99236791e-02, -1.26248121e-03,  9.91366357e-02,\n",
       "        6.52162731e-03,  2.24235300e-02, -2.06937641e-02,  4.88284510e-03,\n",
       "        2.09804699e-02,  4.78084907e-02,  2.58988491e-03,  1.46472715e-02,\n",
       "        1.93902012e-02,  1.24323750e-02, -6.86216576e-04,  6.89119101e-02,\n",
       "       -1.65040325e-02,  1.35759078e-02, -1.56355975e-03, -2.82252263e-02,\n",
       "       -1.54247154e-02,  9.40189324e-03,  3.30902189e-02,  1.02113172e-01,\n",
       "       -3.46840769e-02,  6.98673911e-03, -1.69703010e-02,  3.44782099e-02,\n",
       "        6.69596046e-02, -8.05543736e-02,  1.97830442e-02,  6.51135519e-02,\n",
       "        1.10802772e-02, -7.12721571e-02,  1.08282175e-02,  1.38720751e-01],\n",
       "      dtype=float32)"
      ]
     },
     "execution_count": 23,
     "metadata": {},
     "output_type": "execute_result"
    }
   ],
   "source": [
    "model[\"flower\"]"
   ]
  },
  {
   "cell_type": "code",
   "execution_count": 40,
   "metadata": {},
   "outputs": [],
   "source": [
    "import numpy as np  # Make sure that numpy is imported\n",
    "\n",
    "def makeFeatureVec(words, model, num_features):\n",
    "    # Function to average all of the word vectors in a given\n",
    "    # paragraph\n",
    "    #\n",
    "    # Pre-initialize an empty numpy array (for speed)\n",
    "    featureVec = np.zeros((num_features,),dtype=\"float32\")\n",
    "    #\n",
    "    nwords = 0\n",
    "    # \n",
    "    # Index2word is a list that contains the names of the words in \n",
    "    # the model's vocabulary. Convert it to a set, for speed \n",
    "    index2word_set = set(model.wv.index2word)\n",
    "    #\n",
    "    # Loop over each word in the review and, if it is in the model's\n",
    "    # vocaublary, add its feature vector to the total\n",
    "    for word in words:\n",
    "        if word in index2word_set: \n",
    "            nwords = nwords + 1\n",
    "            featureVec = np.add(featureVec,model[word])\n",
    "    # \n",
    "    # Divide the result by the number of words to get the average\n",
    "    featureVec = np.divide(featureVec,nwords)\n",
    "    return featureVec\n"
   ]
  },
  {
   "cell_type": "code",
   "execution_count": 49,
   "metadata": {},
   "outputs": [],
   "source": [
    "def getAvgFeatureVecs(reviews, model, num_features):\n",
    "    # Given a set of reviews (each one a list of words), calculate \n",
    "    # the average feature vector for each one and return a 2D numpy array \n",
    "    # \n",
    "    # Initialize a counter\n",
    "    counter = 0\n",
    "    # \n",
    "    # Preallocate a 2D numpy array, for speed\n",
    "    reviewFeatureVecs = np.zeros((len(reviews),num_features),dtype=\"float32\")\n",
    "    # \n",
    "    # Loop through the reviews\n",
    "    for review in reviews:\n",
    "        if counter%1000 == 0:\n",
    "            print (\"Review %d of %d\" % (counter, len(reviews)))\n",
    "        \n",
    "        reviewFeatureVecs[int(counter)] = makeFeatureVec(review, model, num_features)\n",
    "        \n",
    "        counter = counter + 1\n",
    "    return reviewFeatureVecs"
   ]
  },
  {
   "cell_type": "code",
   "execution_count": 50,
   "metadata": {},
   "outputs": [
    {
     "name": "stdout",
     "output_type": "stream",
     "text": [
      "Review 0 of 25000\n"
     ]
    },
    {
     "name": "stderr",
     "output_type": "stream",
     "text": [
      "C:\\Users\\Public\\Anaconda3\\lib\\site-packages\\ipykernel_launcher.py:21: DeprecationWarning: Call to deprecated `__getitem__` (Method will be removed in 4.0.0, use self.wv.__getitem__() instead).\n"
     ]
    },
    {
     "name": "stdout",
     "output_type": "stream",
     "text": [
      "Review 1000 of 25000\n",
      "Review 2000 of 25000\n",
      "Review 3000 of 25000\n",
      "Review 4000 of 25000\n",
      "Review 5000 of 25000\n",
      "Review 6000 of 25000\n",
      "Review 7000 of 25000\n",
      "Review 8000 of 25000\n",
      "Review 9000 of 25000\n",
      "Review 10000 of 25000\n",
      "Review 11000 of 25000\n",
      "Review 12000 of 25000\n",
      "Review 13000 of 25000\n",
      "Review 14000 of 25000\n",
      "Review 15000 of 25000\n",
      "Review 16000 of 25000\n",
      "Review 17000 of 25000\n",
      "Review 18000 of 25000\n",
      "Review 19000 of 25000\n",
      "Review 20000 of 25000\n",
      "Review 21000 of 25000\n",
      "Review 22000 of 25000\n",
      "Review 23000 of 25000\n",
      "Review 24000 of 25000\n",
      "Creating average feature vecs for test reviews\n",
      "Review 0 of 25000\n",
      "Review 1000 of 25000\n",
      "Review 2000 of 25000\n",
      "Review 3000 of 25000\n",
      "Review 4000 of 25000\n",
      "Review 5000 of 25000\n",
      "Review 6000 of 25000\n",
      "Review 7000 of 25000\n",
      "Review 8000 of 25000\n",
      "Review 9000 of 25000\n",
      "Review 10000 of 25000\n",
      "Review 11000 of 25000\n",
      "Review 12000 of 25000\n",
      "Review 13000 of 25000\n",
      "Review 14000 of 25000\n",
      "Review 15000 of 25000\n",
      "Review 16000 of 25000\n",
      "Review 17000 of 25000\n",
      "Review 18000 of 25000\n",
      "Review 19000 of 25000\n",
      "Review 20000 of 25000\n",
      "Review 21000 of 25000\n",
      "Review 22000 of 25000\n",
      "Review 23000 of 25000\n",
      "Review 24000 of 25000\n"
     ]
    }
   ],
   "source": [
    "# ****************************************************************\n",
    "# Calculate average feature vectors for training and testing sets,\n",
    "# using the functions we defined above. Notice that we now use stop word\n",
    "# removal.\n",
    "\n",
    "clean_train_reviews = []\n",
    "for review in train[\"review\"]:\n",
    "    clean_train_reviews.append( review_to_wordlist( review, \\\n",
    "        remove_stopwords=True ))\n",
    "    \n",
    "num_features = 300\n",
    "\n",
    "trainDataVecs = getAvgFeatureVecs( clean_train_reviews, model, num_features )\n",
    "\n",
    "print (\"Creating average feature vecs for test reviews\")\n",
    "clean_test_reviews = []\n",
    "for review in test[\"review\"]:\n",
    "    clean_test_reviews.append( review_to_wordlist( review, \\\n",
    "        remove_stopwords=True ))\n",
    "\n",
    "testDataVecs = getAvgFeatureVecs( clean_test_reviews, model, num_features )"
   ]
  },
  {
   "cell_type": "code",
   "execution_count": 52,
   "metadata": {},
   "outputs": [
    {
     "name": "stdout",
     "output_type": "stream",
     "text": [
      "Fitting a random forest to labeled training data...\n"
     ]
    }
   ],
   "source": [
    "# Fit a random forest to the training data, using 100 trees\n",
    "from sklearn.ensemble import RandomForestClassifier\n",
    "forest = RandomForestClassifier( n_estimators = 100 )\n",
    "\n",
    "print (\"Fitting a random forest to labeled training data...\")\n",
    "forest = forest.fit( trainDataVecs, train[\"sentiment\"] )\n",
    "\n",
    "# Test & extract results \n",
    "result = forest.predict( testDataVecs )\n",
    "\n",
    "# Write the test results \n",
    "output = pd.DataFrame( data={\"id\":test[\"id\"], \"sentiment\":result} )\n",
    "output.to_csv( \"Word2Vec_AverageVectors.csv\", index=False, quoting=3 )"
   ]
  },
  {
   "cell_type": "code",
   "execution_count": 55,
   "metadata": {},
   "outputs": [
    {
     "name": "stderr",
     "output_type": "stream",
     "text": [
      "C:\\Users\\Public\\Anaconda3\\lib\\site-packages\\ipykernel_launcher.py:8: DeprecationWarning: Call to deprecated `syn0` (Attribute will be removed in 4.0.0, use self.wv.vectors instead).\n",
      "  \n",
      "C:\\Users\\Public\\Anaconda3\\lib\\site-packages\\sklearn\\metrics\\pairwise.py:258: RuntimeWarning: invalid value encountered in sqrt\n",
      "  return distances if squared else np.sqrt(distances, out=distances)\n",
      "C:\\Users\\Public\\Anaconda3\\lib\\site-packages\\sklearn\\metrics\\pairwise.py:258: RuntimeWarning: invalid value encountered in sqrt\n",
      "  return distances if squared else np.sqrt(distances, out=distances)\n",
      "C:\\Users\\Public\\Anaconda3\\lib\\site-packages\\sklearn\\metrics\\pairwise.py:258: RuntimeWarning: invalid value encountered in sqrt\n",
      "  return distances if squared else np.sqrt(distances, out=distances)\n",
      "C:\\Users\\Public\\Anaconda3\\lib\\site-packages\\sklearn\\metrics\\pairwise.py:258: RuntimeWarning: invalid value encountered in sqrt\n",
      "  return distances if squared else np.sqrt(distances, out=distances)\n",
      "C:\\Users\\Public\\Anaconda3\\lib\\site-packages\\sklearn\\metrics\\pairwise.py:258: RuntimeWarning: invalid value encountered in sqrt\n",
      "  return distances if squared else np.sqrt(distances, out=distances)\n",
      "C:\\Users\\Public\\Anaconda3\\lib\\site-packages\\sklearn\\metrics\\pairwise.py:258: RuntimeWarning: invalid value encountered in sqrt\n",
      "  return distances if squared else np.sqrt(distances, out=distances)\n",
      "C:\\Users\\Public\\Anaconda3\\lib\\site-packages\\sklearn\\metrics\\pairwise.py:258: RuntimeWarning: invalid value encountered in sqrt\n",
      "  return distances if squared else np.sqrt(distances, out=distances)\n",
      "C:\\Users\\Public\\Anaconda3\\lib\\site-packages\\sklearn\\metrics\\pairwise.py:258: RuntimeWarning: invalid value encountered in sqrt\n",
      "  return distances if squared else np.sqrt(distances, out=distances)\n",
      "C:\\Users\\Public\\Anaconda3\\lib\\site-packages\\sklearn\\metrics\\pairwise.py:258: RuntimeWarning: invalid value encountered in sqrt\n",
      "  return distances if squared else np.sqrt(distances, out=distances)\n",
      "C:\\Users\\Public\\Anaconda3\\lib\\site-packages\\sklearn\\metrics\\pairwise.py:258: RuntimeWarning: invalid value encountered in sqrt\n",
      "  return distances if squared else np.sqrt(distances, out=distances)\n",
      "C:\\Users\\Public\\Anaconda3\\lib\\site-packages\\sklearn\\metrics\\pairwise.py:258: RuntimeWarning: invalid value encountered in sqrt\n",
      "  return distances if squared else np.sqrt(distances, out=distances)\n",
      "C:\\Users\\Public\\Anaconda3\\lib\\site-packages\\sklearn\\metrics\\pairwise.py:258: RuntimeWarning: invalid value encountered in sqrt\n",
      "  return distances if squared else np.sqrt(distances, out=distances)\n",
      "C:\\Users\\Public\\Anaconda3\\lib\\site-packages\\sklearn\\metrics\\pairwise.py:258: RuntimeWarning: invalid value encountered in sqrt\n",
      "  return distances if squared else np.sqrt(distances, out=distances)\n",
      "C:\\Users\\Public\\Anaconda3\\lib\\site-packages\\sklearn\\metrics\\pairwise.py:258: RuntimeWarning: invalid value encountered in sqrt\n",
      "  return distances if squared else np.sqrt(distances, out=distances)\n",
      "C:\\Users\\Public\\Anaconda3\\lib\\site-packages\\sklearn\\metrics\\pairwise.py:258: RuntimeWarning: invalid value encountered in sqrt\n",
      "  return distances if squared else np.sqrt(distances, out=distances)\n",
      "C:\\Users\\Public\\Anaconda3\\lib\\site-packages\\sklearn\\metrics\\pairwise.py:258: RuntimeWarning: invalid value encountered in sqrt\n",
      "  return distances if squared else np.sqrt(distances, out=distances)\n",
      "C:\\Users\\Public\\Anaconda3\\lib\\site-packages\\sklearn\\metrics\\pairwise.py:258: RuntimeWarning: invalid value encountered in sqrt\n",
      "  return distances if squared else np.sqrt(distances, out=distances)\n",
      "C:\\Users\\Public\\Anaconda3\\lib\\site-packages\\sklearn\\metrics\\pairwise.py:258: RuntimeWarning: invalid value encountered in sqrt\n",
      "  return distances if squared else np.sqrt(distances, out=distances)\n",
      "C:\\Users\\Public\\Anaconda3\\lib\\site-packages\\sklearn\\metrics\\pairwise.py:258: RuntimeWarning: invalid value encountered in sqrt\n",
      "  return distances if squared else np.sqrt(distances, out=distances)\n",
      "C:\\Users\\Public\\Anaconda3\\lib\\site-packages\\sklearn\\metrics\\pairwise.py:258: RuntimeWarning: invalid value encountered in sqrt\n",
      "  return distances if squared else np.sqrt(distances, out=distances)\n",
      "C:\\Users\\Public\\Anaconda3\\lib\\site-packages\\sklearn\\metrics\\pairwise.py:258: RuntimeWarning: invalid value encountered in sqrt\n",
      "  return distances if squared else np.sqrt(distances, out=distances)\n",
      "C:\\Users\\Public\\Anaconda3\\lib\\site-packages\\sklearn\\metrics\\pairwise.py:258: RuntimeWarning: invalid value encountered in sqrt\n",
      "  return distances if squared else np.sqrt(distances, out=distances)\n",
      "C:\\Users\\Public\\Anaconda3\\lib\\site-packages\\sklearn\\metrics\\pairwise.py:258: RuntimeWarning: invalid value encountered in sqrt\n",
      "  return distances if squared else np.sqrt(distances, out=distances)\n",
      "C:\\Users\\Public\\Anaconda3\\lib\\site-packages\\sklearn\\metrics\\pairwise.py:258: RuntimeWarning: invalid value encountered in sqrt\n",
      "  return distances if squared else np.sqrt(distances, out=distances)\n",
      "C:\\Users\\Public\\Anaconda3\\lib\\site-packages\\sklearn\\metrics\\pairwise.py:258: RuntimeWarning: invalid value encountered in sqrt\n",
      "  return distances if squared else np.sqrt(distances, out=distances)\n",
      "C:\\Users\\Public\\Anaconda3\\lib\\site-packages\\sklearn\\metrics\\pairwise.py:258: RuntimeWarning: invalid value encountered in sqrt\n",
      "  return distances if squared else np.sqrt(distances, out=distances)\n",
      "C:\\Users\\Public\\Anaconda3\\lib\\site-packages\\sklearn\\metrics\\pairwise.py:258: RuntimeWarning: invalid value encountered in sqrt\n",
      "  return distances if squared else np.sqrt(distances, out=distances)\n",
      "C:\\Users\\Public\\Anaconda3\\lib\\site-packages\\sklearn\\metrics\\pairwise.py:258: RuntimeWarning: invalid value encountered in sqrt\n",
      "  return distances if squared else np.sqrt(distances, out=distances)\n",
      "C:\\Users\\Public\\Anaconda3\\lib\\site-packages\\sklearn\\metrics\\pairwise.py:258: RuntimeWarning: invalid value encountered in sqrt\n",
      "  return distances if squared else np.sqrt(distances, out=distances)\n",
      "C:\\Users\\Public\\Anaconda3\\lib\\site-packages\\sklearn\\metrics\\pairwise.py:258: RuntimeWarning: invalid value encountered in sqrt\n",
      "  return distances if squared else np.sqrt(distances, out=distances)\n",
      "C:\\Users\\Public\\Anaconda3\\lib\\site-packages\\sklearn\\metrics\\pairwise.py:258: RuntimeWarning: invalid value encountered in sqrt\n",
      "  return distances if squared else np.sqrt(distances, out=distances)\n",
      "C:\\Users\\Public\\Anaconda3\\lib\\site-packages\\sklearn\\metrics\\pairwise.py:258: RuntimeWarning: invalid value encountered in sqrt\n",
      "  return distances if squared else np.sqrt(distances, out=distances)\n",
      "C:\\Users\\Public\\Anaconda3\\lib\\site-packages\\sklearn\\metrics\\pairwise.py:258: RuntimeWarning: invalid value encountered in sqrt\n",
      "  return distances if squared else np.sqrt(distances, out=distances)\n",
      "C:\\Users\\Public\\Anaconda3\\lib\\site-packages\\sklearn\\metrics\\pairwise.py:258: RuntimeWarning: invalid value encountered in sqrt\n",
      "  return distances if squared else np.sqrt(distances, out=distances)\n",
      "C:\\Users\\Public\\Anaconda3\\lib\\site-packages\\sklearn\\metrics\\pairwise.py:258: RuntimeWarning: invalid value encountered in sqrt\n",
      "  return distances if squared else np.sqrt(distances, out=distances)\n",
      "C:\\Users\\Public\\Anaconda3\\lib\\site-packages\\sklearn\\metrics\\pairwise.py:258: RuntimeWarning: invalid value encountered in sqrt\n",
      "  return distances if squared else np.sqrt(distances, out=distances)\n",
      "C:\\Users\\Public\\Anaconda3\\lib\\site-packages\\sklearn\\metrics\\pairwise.py:258: RuntimeWarning: invalid value encountered in sqrt\n",
      "  return distances if squared else np.sqrt(distances, out=distances)\n",
      "C:\\Users\\Public\\Anaconda3\\lib\\site-packages\\sklearn\\metrics\\pairwise.py:258: RuntimeWarning: invalid value encountered in sqrt\n",
      "  return distances if squared else np.sqrt(distances, out=distances)\n",
      "C:\\Users\\Public\\Anaconda3\\lib\\site-packages\\sklearn\\metrics\\pairwise.py:258: RuntimeWarning: invalid value encountered in sqrt\n",
      "  return distances if squared else np.sqrt(distances, out=distances)\n",
      "C:\\Users\\Public\\Anaconda3\\lib\\site-packages\\sklearn\\metrics\\pairwise.py:258: RuntimeWarning: invalid value encountered in sqrt\n",
      "  return distances if squared else np.sqrt(distances, out=distances)\n",
      "C:\\Users\\Public\\Anaconda3\\lib\\site-packages\\sklearn\\metrics\\pairwise.py:258: RuntimeWarning: invalid value encountered in sqrt\n",
      "  return distances if squared else np.sqrt(distances, out=distances)\n"
     ]
    },
    {
     "name": "stderr",
     "output_type": "stream",
     "text": [
      "C:\\Users\\Public\\Anaconda3\\lib\\site-packages\\sklearn\\metrics\\pairwise.py:258: RuntimeWarning: invalid value encountered in sqrt\n",
      "  return distances if squared else np.sqrt(distances, out=distances)\n",
      "C:\\Users\\Public\\Anaconda3\\lib\\site-packages\\sklearn\\metrics\\pairwise.py:258: RuntimeWarning: invalid value encountered in sqrt\n",
      "  return distances if squared else np.sqrt(distances, out=distances)\n",
      "C:\\Users\\Public\\Anaconda3\\lib\\site-packages\\sklearn\\metrics\\pairwise.py:258: RuntimeWarning: invalid value encountered in sqrt\n",
      "  return distances if squared else np.sqrt(distances, out=distances)\n",
      "C:\\Users\\Public\\Anaconda3\\lib\\site-packages\\sklearn\\metrics\\pairwise.py:258: RuntimeWarning: invalid value encountered in sqrt\n",
      "  return distances if squared else np.sqrt(distances, out=distances)\n",
      "C:\\Users\\Public\\Anaconda3\\lib\\site-packages\\sklearn\\metrics\\pairwise.py:258: RuntimeWarning: invalid value encountered in sqrt\n",
      "  return distances if squared else np.sqrt(distances, out=distances)\n",
      "C:\\Users\\Public\\Anaconda3\\lib\\site-packages\\sklearn\\metrics\\pairwise.py:258: RuntimeWarning: invalid value encountered in sqrt\n",
      "  return distances if squared else np.sqrt(distances, out=distances)\n",
      "C:\\Users\\Public\\Anaconda3\\lib\\site-packages\\sklearn\\metrics\\pairwise.py:258: RuntimeWarning: invalid value encountered in sqrt\n",
      "  return distances if squared else np.sqrt(distances, out=distances)\n",
      "C:\\Users\\Public\\Anaconda3\\lib\\site-packages\\sklearn\\metrics\\pairwise.py:258: RuntimeWarning: invalid value encountered in sqrt\n",
      "  return distances if squared else np.sqrt(distances, out=distances)\n",
      "C:\\Users\\Public\\Anaconda3\\lib\\site-packages\\sklearn\\metrics\\pairwise.py:258: RuntimeWarning: invalid value encountered in sqrt\n",
      "  return distances if squared else np.sqrt(distances, out=distances)\n",
      "C:\\Users\\Public\\Anaconda3\\lib\\site-packages\\sklearn\\metrics\\pairwise.py:258: RuntimeWarning: invalid value encountered in sqrt\n",
      "  return distances if squared else np.sqrt(distances, out=distances)\n",
      "C:\\Users\\Public\\Anaconda3\\lib\\site-packages\\sklearn\\metrics\\pairwise.py:258: RuntimeWarning: invalid value encountered in sqrt\n",
      "  return distances if squared else np.sqrt(distances, out=distances)\n",
      "C:\\Users\\Public\\Anaconda3\\lib\\site-packages\\sklearn\\metrics\\pairwise.py:258: RuntimeWarning: invalid value encountered in sqrt\n",
      "  return distances if squared else np.sqrt(distances, out=distances)\n",
      "C:\\Users\\Public\\Anaconda3\\lib\\site-packages\\sklearn\\metrics\\pairwise.py:258: RuntimeWarning: invalid value encountered in sqrt\n",
      "  return distances if squared else np.sqrt(distances, out=distances)\n",
      "C:\\Users\\Public\\Anaconda3\\lib\\site-packages\\sklearn\\metrics\\pairwise.py:258: RuntimeWarning: invalid value encountered in sqrt\n",
      "  return distances if squared else np.sqrt(distances, out=distances)\n",
      "C:\\Users\\Public\\Anaconda3\\lib\\site-packages\\sklearn\\metrics\\pairwise.py:258: RuntimeWarning: invalid value encountered in sqrt\n",
      "  return distances if squared else np.sqrt(distances, out=distances)\n",
      "C:\\Users\\Public\\Anaconda3\\lib\\site-packages\\sklearn\\metrics\\pairwise.py:258: RuntimeWarning: invalid value encountered in sqrt\n",
      "  return distances if squared else np.sqrt(distances, out=distances)\n",
      "C:\\Users\\Public\\Anaconda3\\lib\\site-packages\\sklearn\\metrics\\pairwise.py:258: RuntimeWarning: invalid value encountered in sqrt\n",
      "  return distances if squared else np.sqrt(distances, out=distances)\n",
      "C:\\Users\\Public\\Anaconda3\\lib\\site-packages\\sklearn\\metrics\\pairwise.py:258: RuntimeWarning: invalid value encountered in sqrt\n",
      "  return distances if squared else np.sqrt(distances, out=distances)\n",
      "C:\\Users\\Public\\Anaconda3\\lib\\site-packages\\sklearn\\metrics\\pairwise.py:258: RuntimeWarning: invalid value encountered in sqrt\n",
      "  return distances if squared else np.sqrt(distances, out=distances)\n",
      "C:\\Users\\Public\\Anaconda3\\lib\\site-packages\\sklearn\\metrics\\pairwise.py:258: RuntimeWarning: invalid value encountered in sqrt\n",
      "  return distances if squared else np.sqrt(distances, out=distances)\n",
      "C:\\Users\\Public\\Anaconda3\\lib\\site-packages\\sklearn\\metrics\\pairwise.py:258: RuntimeWarning: invalid value encountered in sqrt\n",
      "  return distances if squared else np.sqrt(distances, out=distances)\n",
      "C:\\Users\\Public\\Anaconda3\\lib\\site-packages\\sklearn\\metrics\\pairwise.py:258: RuntimeWarning: invalid value encountered in sqrt\n",
      "  return distances if squared else np.sqrt(distances, out=distances)\n",
      "C:\\Users\\Public\\Anaconda3\\lib\\site-packages\\sklearn\\metrics\\pairwise.py:258: RuntimeWarning: invalid value encountered in sqrt\n",
      "  return distances if squared else np.sqrt(distances, out=distances)\n",
      "C:\\Users\\Public\\Anaconda3\\lib\\site-packages\\sklearn\\metrics\\pairwise.py:258: RuntimeWarning: invalid value encountered in sqrt\n",
      "  return distances if squared else np.sqrt(distances, out=distances)\n",
      "C:\\Users\\Public\\Anaconda3\\lib\\site-packages\\sklearn\\metrics\\pairwise.py:258: RuntimeWarning: invalid value encountered in sqrt\n",
      "  return distances if squared else np.sqrt(distances, out=distances)\n",
      "C:\\Users\\Public\\Anaconda3\\lib\\site-packages\\sklearn\\metrics\\pairwise.py:258: RuntimeWarning: invalid value encountered in sqrt\n",
      "  return distances if squared else np.sqrt(distances, out=distances)\n",
      "C:\\Users\\Public\\Anaconda3\\lib\\site-packages\\sklearn\\metrics\\pairwise.py:258: RuntimeWarning: invalid value encountered in sqrt\n",
      "  return distances if squared else np.sqrt(distances, out=distances)\n",
      "C:\\Users\\Public\\Anaconda3\\lib\\site-packages\\sklearn\\metrics\\pairwise.py:258: RuntimeWarning: invalid value encountered in sqrt\n",
      "  return distances if squared else np.sqrt(distances, out=distances)\n",
      "C:\\Users\\Public\\Anaconda3\\lib\\site-packages\\sklearn\\metrics\\pairwise.py:258: RuntimeWarning: invalid value encountered in sqrt\n",
      "  return distances if squared else np.sqrt(distances, out=distances)\n",
      "C:\\Users\\Public\\Anaconda3\\lib\\site-packages\\sklearn\\metrics\\pairwise.py:258: RuntimeWarning: invalid value encountered in sqrt\n",
      "  return distances if squared else np.sqrt(distances, out=distances)\n",
      "C:\\Users\\Public\\Anaconda3\\lib\\site-packages\\sklearn\\metrics\\pairwise.py:258: RuntimeWarning: invalid value encountered in sqrt\n",
      "  return distances if squared else np.sqrt(distances, out=distances)\n",
      "C:\\Users\\Public\\Anaconda3\\lib\\site-packages\\sklearn\\metrics\\pairwise.py:258: RuntimeWarning: invalid value encountered in sqrt\n",
      "  return distances if squared else np.sqrt(distances, out=distances)\n",
      "C:\\Users\\Public\\Anaconda3\\lib\\site-packages\\sklearn\\metrics\\pairwise.py:258: RuntimeWarning: invalid value encountered in sqrt\n",
      "  return distances if squared else np.sqrt(distances, out=distances)\n",
      "C:\\Users\\Public\\Anaconda3\\lib\\site-packages\\sklearn\\metrics\\pairwise.py:258: RuntimeWarning: invalid value encountered in sqrt\n",
      "  return distances if squared else np.sqrt(distances, out=distances)\n",
      "C:\\Users\\Public\\Anaconda3\\lib\\site-packages\\sklearn\\metrics\\pairwise.py:258: RuntimeWarning: invalid value encountered in sqrt\n",
      "  return distances if squared else np.sqrt(distances, out=distances)\n",
      "C:\\Users\\Public\\Anaconda3\\lib\\site-packages\\sklearn\\metrics\\pairwise.py:258: RuntimeWarning: invalid value encountered in sqrt\n",
      "  return distances if squared else np.sqrt(distances, out=distances)\n",
      "C:\\Users\\Public\\Anaconda3\\lib\\site-packages\\sklearn\\metrics\\pairwise.py:258: RuntimeWarning: invalid value encountered in sqrt\n",
      "  return distances if squared else np.sqrt(distances, out=distances)\n",
      "C:\\Users\\Public\\Anaconda3\\lib\\site-packages\\sklearn\\metrics\\pairwise.py:258: RuntimeWarning: invalid value encountered in sqrt\n",
      "  return distances if squared else np.sqrt(distances, out=distances)\n",
      "C:\\Users\\Public\\Anaconda3\\lib\\site-packages\\sklearn\\metrics\\pairwise.py:258: RuntimeWarning: invalid value encountered in sqrt\n",
      "  return distances if squared else np.sqrt(distances, out=distances)\n",
      "C:\\Users\\Public\\Anaconda3\\lib\\site-packages\\sklearn\\metrics\\pairwise.py:258: RuntimeWarning: invalid value encountered in sqrt\n",
      "  return distances if squared else np.sqrt(distances, out=distances)\n",
      "C:\\Users\\Public\\Anaconda3\\lib\\site-packages\\sklearn\\metrics\\pairwise.py:258: RuntimeWarning: invalid value encountered in sqrt\n",
      "  return distances if squared else np.sqrt(distances, out=distances)\n",
      "C:\\Users\\Public\\Anaconda3\\lib\\site-packages\\sklearn\\metrics\\pairwise.py:258: RuntimeWarning: invalid value encountered in sqrt\n",
      "  return distances if squared else np.sqrt(distances, out=distances)\n"
     ]
    },
    {
     "name": "stderr",
     "output_type": "stream",
     "text": [
      "C:\\Users\\Public\\Anaconda3\\lib\\site-packages\\sklearn\\metrics\\pairwise.py:258: RuntimeWarning: invalid value encountered in sqrt\n",
      "  return distances if squared else np.sqrt(distances, out=distances)\n",
      "C:\\Users\\Public\\Anaconda3\\lib\\site-packages\\sklearn\\metrics\\pairwise.py:258: RuntimeWarning: invalid value encountered in sqrt\n",
      "  return distances if squared else np.sqrt(distances, out=distances)\n",
      "C:\\Users\\Public\\Anaconda3\\lib\\site-packages\\sklearn\\metrics\\pairwise.py:258: RuntimeWarning: invalid value encountered in sqrt\n",
      "  return distances if squared else np.sqrt(distances, out=distances)\n",
      "C:\\Users\\Public\\Anaconda3\\lib\\site-packages\\sklearn\\metrics\\pairwise.py:258: RuntimeWarning: invalid value encountered in sqrt\n",
      "  return distances if squared else np.sqrt(distances, out=distances)\n",
      "C:\\Users\\Public\\Anaconda3\\lib\\site-packages\\sklearn\\metrics\\pairwise.py:258: RuntimeWarning: invalid value encountered in sqrt\n",
      "  return distances if squared else np.sqrt(distances, out=distances)\n",
      "C:\\Users\\Public\\Anaconda3\\lib\\site-packages\\sklearn\\metrics\\pairwise.py:258: RuntimeWarning: invalid value encountered in sqrt\n",
      "  return distances if squared else np.sqrt(distances, out=distances)\n",
      "C:\\Users\\Public\\Anaconda3\\lib\\site-packages\\sklearn\\metrics\\pairwise.py:258: RuntimeWarning: invalid value encountered in sqrt\n",
      "  return distances if squared else np.sqrt(distances, out=distances)\n",
      "C:\\Users\\Public\\Anaconda3\\lib\\site-packages\\sklearn\\metrics\\pairwise.py:258: RuntimeWarning: invalid value encountered in sqrt\n",
      "  return distances if squared else np.sqrt(distances, out=distances)\n",
      "C:\\Users\\Public\\Anaconda3\\lib\\site-packages\\sklearn\\metrics\\pairwise.py:258: RuntimeWarning: invalid value encountered in sqrt\n",
      "  return distances if squared else np.sqrt(distances, out=distances)\n",
      "C:\\Users\\Public\\Anaconda3\\lib\\site-packages\\sklearn\\metrics\\pairwise.py:258: RuntimeWarning: invalid value encountered in sqrt\n",
      "  return distances if squared else np.sqrt(distances, out=distances)\n",
      "C:\\Users\\Public\\Anaconda3\\lib\\site-packages\\sklearn\\metrics\\pairwise.py:258: RuntimeWarning: invalid value encountered in sqrt\n",
      "  return distances if squared else np.sqrt(distances, out=distances)\n",
      "C:\\Users\\Public\\Anaconda3\\lib\\site-packages\\sklearn\\metrics\\pairwise.py:258: RuntimeWarning: invalid value encountered in sqrt\n",
      "  return distances if squared else np.sqrt(distances, out=distances)\n",
      "C:\\Users\\Public\\Anaconda3\\lib\\site-packages\\sklearn\\metrics\\pairwise.py:258: RuntimeWarning: invalid value encountered in sqrt\n",
      "  return distances if squared else np.sqrt(distances, out=distances)\n",
      "C:\\Users\\Public\\Anaconda3\\lib\\site-packages\\sklearn\\metrics\\pairwise.py:258: RuntimeWarning: invalid value encountered in sqrt\n",
      "  return distances if squared else np.sqrt(distances, out=distances)\n",
      "C:\\Users\\Public\\Anaconda3\\lib\\site-packages\\sklearn\\metrics\\pairwise.py:258: RuntimeWarning: invalid value encountered in sqrt\n",
      "  return distances if squared else np.sqrt(distances, out=distances)\n",
      "C:\\Users\\Public\\Anaconda3\\lib\\site-packages\\sklearn\\metrics\\pairwise.py:258: RuntimeWarning: invalid value encountered in sqrt\n",
      "  return distances if squared else np.sqrt(distances, out=distances)\n",
      "C:\\Users\\Public\\Anaconda3\\lib\\site-packages\\sklearn\\metrics\\pairwise.py:258: RuntimeWarning: invalid value encountered in sqrt\n",
      "  return distances if squared else np.sqrt(distances, out=distances)\n",
      "C:\\Users\\Public\\Anaconda3\\lib\\site-packages\\sklearn\\metrics\\pairwise.py:258: RuntimeWarning: invalid value encountered in sqrt\n",
      "  return distances if squared else np.sqrt(distances, out=distances)\n",
      "C:\\Users\\Public\\Anaconda3\\lib\\site-packages\\sklearn\\metrics\\pairwise.py:258: RuntimeWarning: invalid value encountered in sqrt\n",
      "  return distances if squared else np.sqrt(distances, out=distances)\n",
      "C:\\Users\\Public\\Anaconda3\\lib\\site-packages\\sklearn\\metrics\\pairwise.py:258: RuntimeWarning: invalid value encountered in sqrt\n",
      "  return distances if squared else np.sqrt(distances, out=distances)\n",
      "C:\\Users\\Public\\Anaconda3\\lib\\site-packages\\sklearn\\metrics\\pairwise.py:258: RuntimeWarning: invalid value encountered in sqrt\n",
      "  return distances if squared else np.sqrt(distances, out=distances)\n",
      "C:\\Users\\Public\\Anaconda3\\lib\\site-packages\\sklearn\\metrics\\pairwise.py:258: RuntimeWarning: invalid value encountered in sqrt\n",
      "  return distances if squared else np.sqrt(distances, out=distances)\n",
      "C:\\Users\\Public\\Anaconda3\\lib\\site-packages\\sklearn\\metrics\\pairwise.py:258: RuntimeWarning: invalid value encountered in sqrt\n",
      "  return distances if squared else np.sqrt(distances, out=distances)\n",
      "C:\\Users\\Public\\Anaconda3\\lib\\site-packages\\sklearn\\metrics\\pairwise.py:258: RuntimeWarning: invalid value encountered in sqrt\n",
      "  return distances if squared else np.sqrt(distances, out=distances)\n",
      "C:\\Users\\Public\\Anaconda3\\lib\\site-packages\\sklearn\\metrics\\pairwise.py:258: RuntimeWarning: invalid value encountered in sqrt\n",
      "  return distances if squared else np.sqrt(distances, out=distances)\n",
      "C:\\Users\\Public\\Anaconda3\\lib\\site-packages\\sklearn\\metrics\\pairwise.py:258: RuntimeWarning: invalid value encountered in sqrt\n",
      "  return distances if squared else np.sqrt(distances, out=distances)\n",
      "C:\\Users\\Public\\Anaconda3\\lib\\site-packages\\sklearn\\metrics\\pairwise.py:258: RuntimeWarning: invalid value encountered in sqrt\n",
      "  return distances if squared else np.sqrt(distances, out=distances)\n",
      "C:\\Users\\Public\\Anaconda3\\lib\\site-packages\\sklearn\\metrics\\pairwise.py:258: RuntimeWarning: invalid value encountered in sqrt\n",
      "  return distances if squared else np.sqrt(distances, out=distances)\n",
      "C:\\Users\\Public\\Anaconda3\\lib\\site-packages\\sklearn\\metrics\\pairwise.py:258: RuntimeWarning: invalid value encountered in sqrt\n",
      "  return distances if squared else np.sqrt(distances, out=distances)\n",
      "C:\\Users\\Public\\Anaconda3\\lib\\site-packages\\sklearn\\metrics\\pairwise.py:258: RuntimeWarning: invalid value encountered in sqrt\n",
      "  return distances if squared else np.sqrt(distances, out=distances)\n",
      "C:\\Users\\Public\\Anaconda3\\lib\\site-packages\\sklearn\\metrics\\pairwise.py:258: RuntimeWarning: invalid value encountered in sqrt\n",
      "  return distances if squared else np.sqrt(distances, out=distances)\n",
      "C:\\Users\\Public\\Anaconda3\\lib\\site-packages\\sklearn\\metrics\\pairwise.py:258: RuntimeWarning: invalid value encountered in sqrt\n",
      "  return distances if squared else np.sqrt(distances, out=distances)\n",
      "C:\\Users\\Public\\Anaconda3\\lib\\site-packages\\sklearn\\metrics\\pairwise.py:258: RuntimeWarning: invalid value encountered in sqrt\n",
      "  return distances if squared else np.sqrt(distances, out=distances)\n",
      "C:\\Users\\Public\\Anaconda3\\lib\\site-packages\\sklearn\\metrics\\pairwise.py:258: RuntimeWarning: invalid value encountered in sqrt\n",
      "  return distances if squared else np.sqrt(distances, out=distances)\n",
      "C:\\Users\\Public\\Anaconda3\\lib\\site-packages\\sklearn\\metrics\\pairwise.py:258: RuntimeWarning: invalid value encountered in sqrt\n",
      "  return distances if squared else np.sqrt(distances, out=distances)\n",
      "C:\\Users\\Public\\Anaconda3\\lib\\site-packages\\sklearn\\metrics\\pairwise.py:258: RuntimeWarning: invalid value encountered in sqrt\n",
      "  return distances if squared else np.sqrt(distances, out=distances)\n",
      "C:\\Users\\Public\\Anaconda3\\lib\\site-packages\\sklearn\\metrics\\pairwise.py:258: RuntimeWarning: invalid value encountered in sqrt\n",
      "  return distances if squared else np.sqrt(distances, out=distances)\n",
      "C:\\Users\\Public\\Anaconda3\\lib\\site-packages\\sklearn\\metrics\\pairwise.py:258: RuntimeWarning: invalid value encountered in sqrt\n",
      "  return distances if squared else np.sqrt(distances, out=distances)\n",
      "C:\\Users\\Public\\Anaconda3\\lib\\site-packages\\sklearn\\metrics\\pairwise.py:258: RuntimeWarning: invalid value encountered in sqrt\n",
      "  return distances if squared else np.sqrt(distances, out=distances)\n"
     ]
    },
    {
     "name": "stdout",
     "output_type": "stream",
     "text": [
      "Time taken for K Means clustering:  726.8042805194855 seconds.\n"
     ]
    },
    {
     "name": "stderr",
     "output_type": "stream",
     "text": [
      "C:\\Users\\Public\\Anaconda3\\lib\\site-packages\\sklearn\\metrics\\pairwise.py:258: RuntimeWarning: invalid value encountered in sqrt\n",
      "  return distances if squared else np.sqrt(distances, out=distances)\n"
     ]
    }
   ],
   "source": [
    "from sklearn.cluster import KMeans\n",
    "import time\n",
    "\n",
    "start = time.time() # Start time\n",
    "\n",
    "# Set \"k\" (num_clusters) to be 1/5th of the vocabulary size, or an\n",
    "# average of 5 words per cluster\n",
    "word_vectors = model.wv.syn0\n",
    "num_clusters = int(word_vectors.shape[0] / 5)\n",
    "\n",
    "# Initalize a k-means object and use it to extract centroids\n",
    "kmeans_clustering = KMeans( n_clusters = num_clusters )\n",
    "idx = kmeans_clustering.fit_predict( word_vectors )\n",
    "\n",
    "# Get the end time and print how long the process took\n",
    "end = time.time()\n",
    "elapsed = end - start\n",
    "print (\"Time taken for K Means clustering: \", elapsed, \"seconds.\")"
   ]
  },
  {
   "cell_type": "code",
   "execution_count": 61,
   "metadata": {},
   "outputs": [],
   "source": [
    "# Create a Word / Index dictionary, mapping each vocabulary word to\n",
    "# a cluster number                                                                                            \n",
    "word_centroid_map = dict(zip( model.wv.index2word, idx ))\n",
    "word_centroid_map_list = list(word_centroid_map.values())"
   ]
  },
  {
   "cell_type": "code",
   "execution_count": 66,
   "metadata": {},
   "outputs": [
    {
     "name": "stdout",
     "output_type": "stream",
     "text": [
      "\n",
      "Cluster 0\n",
      "['egos']\n",
      "\n",
      "Cluster 1\n",
      "['laura', 'lisa', 'claire', 'emily', 'karen', 'ellen', 'jenny', 'sally', 'maggie', 'holly', 'christine', 'wendy', 'daisy', 'pamela', 'beth', 'sara', 'stephanie', 'edie', 'cindy', 'gina', 'alicia', 'angie', 'carla', 'katie', 'patty', 'sissy', 'elaine', 'harper', 'stacy', 'allison', 'gwen', 'cathy', 'locke', 'agnes', 'erin', 'jessie', 'josie', 'chloe', 'lori', 'erika', 'cheryl', 'mona', 'nell', 'theresa', 'abigail', 'abby', 'jen', 'eliza', 'lilly', 'tiffany', 'lucinda', 'susie', 'becky']\n",
      "\n",
      "Cluster 2\n",
      "['doom', 'gloom']\n",
      "\n",
      "Cluster 3\n",
      "['air', 'aircraft', 'transport', 'submarine', 'fleet', 'apollo', 'carrier', 'das', 'formation', 'mutiny', 'squadron']\n",
      "\n",
      "Cluster 4\n",
      "['followed', 'replaced', 'interrupted']\n",
      "\n",
      "Cluster 5\n",
      "['lambs', 'labyrinth', 'creepshow', 'suspiria', 'raider']\n",
      "\n",
      "Cluster 6\n",
      "['property', 'loot']\n",
      "\n",
      "Cluster 7\n",
      "['political', 'social', 'politics']\n",
      "\n",
      "Cluster 8\n",
      "['restrained', 'subdued', 'expressive', 'relaxed', 'refined', 'talkative', 'racy', 'showy', 'franchot']\n",
      "\n",
      "Cluster 9\n",
      "['skeleton', 'statues']\n"
     ]
    }
   ],
   "source": [
    "# For the first 10 clusters\n",
    "for cluster in range(0,10):\n",
    "    #\n",
    "    # Print the cluster number  \n",
    "    print (\"\\nCluster %d\" % cluster)\n",
    "    #\n",
    "    # Find all of the words for that cluster number, and print them out\n",
    "    words = []\n",
    "    for i in range(0,len(list(word_centroid_map.values()))):\n",
    "        if( list(word_centroid_map.values())[i] == cluster ):\n",
    "            words.append(list(word_centroid_map.keys())[i])\n",
    "    print (words)"
   ]
  },
  {
   "cell_type": "code",
   "execution_count": 67,
   "metadata": {},
   "outputs": [],
   "source": [
    "def create_bag_of_centroids( wordlist, word_centroid_map ):\n",
    "    #\n",
    "    # The number of clusters is equal to the highest cluster index\n",
    "    # in the word / centroid map\n",
    "    num_centroids = max( word_centroid_map.values() ) + 1\n",
    "    #\n",
    "    # Pre-allocate the bag of centroids vector (for speed)\n",
    "    bag_of_centroids = np.zeros( num_centroids, dtype=\"float32\" )\n",
    "    #\n",
    "    # Loop over the words in the review. If the word is in the vocabulary,\n",
    "    # find which cluster it belongs to, and increment that cluster count \n",
    "    # by one\n",
    "    for word in wordlist:\n",
    "        if word in word_centroid_map:\n",
    "            index = word_centroid_map[word]\n",
    "            bag_of_centroids[index] += 1\n",
    "    #\n",
    "    # Return the \"bag of centroids\"\n",
    "    return bag_of_centroids"
   ]
  },
  {
   "cell_type": "code",
   "execution_count": 68,
   "metadata": {},
   "outputs": [],
   "source": [
    "# Pre-allocate an array for the training set bags of centroids (for speed)\n",
    "train_centroids = np.zeros( (train[\"review\"].size, num_clusters), \\\n",
    "    dtype=\"float32\" )\n",
    "\n",
    "# Transform the training set reviews into bags of centroids\n",
    "counter = 0\n",
    "for review in clean_train_reviews:\n",
    "    train_centroids[counter] = create_bag_of_centroids( review, \\\n",
    "        word_centroid_map )\n",
    "    counter += 1\n",
    "\n",
    "# Repeat for test reviews \n",
    "test_centroids = np.zeros(( test[\"review\"].size, num_clusters), \\\n",
    "    dtype=\"float32\" )\n",
    "\n",
    "counter = 0\n",
    "for review in clean_test_reviews:\n",
    "    test_centroids[counter] = create_bag_of_centroids( review, \\\n",
    "        word_centroid_map )\n",
    "    counter += 1"
   ]
  },
  {
   "cell_type": "code",
   "execution_count": 70,
   "metadata": {},
   "outputs": [
    {
     "name": "stdout",
     "output_type": "stream",
     "text": [
      "Fitting a random forest to labeled training data...\n"
     ]
    }
   ],
   "source": [
    "# Fit a random forest and extract predictions \n",
    "forest = RandomForestClassifier(n_estimators = 100)\n",
    "\n",
    "# Fitting the forest may take a few minutes\n",
    "print (\"Fitting a random forest to labeled training data...\")\n",
    "forest = forest.fit(train_centroids,train[\"sentiment\"])\n",
    "result = forest.predict(test_centroids)\n",
    "\n",
    "# Write the test results \n",
    "output = pd.DataFrame(data={\"id\":test[\"id\"], \"sentiment\":result})\n",
    "output.to_csv( \"BagOfCentroids.csv\", index=False, quoting=3 )"
   ]
  },
  {
   "cell_type": "code",
   "execution_count": null,
   "metadata": {},
   "outputs": [],
   "source": []
  }
 ],
 "metadata": {
  "kernelspec": {
   "display_name": "Python 3",
   "language": "python",
   "name": "python3"
  },
  "language_info": {
   "codemirror_mode": {
    "name": "ipython",
    "version": 3
   },
   "file_extension": ".py",
   "mimetype": "text/x-python",
   "name": "python",
   "nbconvert_exporter": "python",
   "pygments_lexer": "ipython3",
   "version": "3.6.7"
  }
 },
 "nbformat": 4,
 "nbformat_minor": 2
}
